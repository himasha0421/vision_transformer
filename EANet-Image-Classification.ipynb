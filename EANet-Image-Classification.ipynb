{
 "cells": [
  {
   "cell_type": "markdown",
   "metadata": {
    "id": "Iq9N9B0v-9cP"
   },
   "source": [
    "# Train a Vision Transformer on small datasets\n",
    "\n",
    "**Author:** [Aritra Roy Gosthipaty](https://twitter.com/ariG23498)<br>\n",
    "**Date created:** 2022/01/07<br>\n",
    "**Last modified:** 2022/01/10<br>\n",
    "**Description:** Training a ViT from scratch on smaller datasets with shifted patch tokenization and locality self-attention."
   ]
  },
  {
   "cell_type": "code",
   "execution_count": 1,
   "metadata": {},
   "outputs": [],
   "source": [
    "!pip install -qq -U tensorflow-addons\n",
    "!pip install matplotlib\n",
    "!pip install tensorflow==2.8\n",
    "!pip install keras==2.8\n",
    "!pip install seaborn"
   ]
  },
  {
   "cell_type": "markdown",
   "metadata": {
    "id": "s8M_Jpgv-9cU"
   },
   "source": [
    "## Setup"
   ]
  },
  {
   "cell_type": "code",
   "execution_count": 1,
   "metadata": {
    "id": "mka1ZJT2-9cU"
   },
   "outputs": [
    {
     "name": "stderr",
     "output_type": "stream",
     "text": [
      "2023-01-09 13:43:52.608565: W tensorflow/stream_executor/platform/default/dso_loader.cc:64] Could not load dynamic library 'libcudart.so.11.0'; dlerror: libcudart.so.11.0: cannot open shared object file: No such file or directory\n",
      "2023-01-09 13:43:52.608600: I tensorflow/stream_executor/cuda/cudart_stub.cc:29] Ignore above cudart dlerror if you do not have a GPU set up on your machine.\n"
     ]
    }
   ],
   "source": [
    "import math\n",
    "import numpy as np\n",
    "import tensorflow as tf\n",
    "from tensorflow import keras\n",
    "import tensorflow_addons as tfa\n",
    "import matplotlib.pyplot as plt\n",
    "from tensorflow.keras import layers\n",
    "\n",
    "# Setting seed for reproducibiltiy\n",
    "SEED = 42\n",
    "keras.utils.set_random_seed(SEED)"
   ]
  },
  {
   "cell_type": "markdown",
   "metadata": {
    "id": "VzTYV70y-9cV"
   },
   "source": [
    "## Prepare the data"
   ]
  },
  {
   "cell_type": "code",
   "execution_count": 2,
   "metadata": {},
   "outputs": [],
   "source": [
    "base_train_dir = \"dataset/Text-Classification/train_image\"\n",
    "base_test_dir = \"dataset/Text-Classification/test_image\"\n",
    "train_label_path , test_label_path =  \"dataset/Text-Classification/gt_train.txt\" , \"dataset/Text-Classification/gt_test.txt\""
   ]
  },
  {
   "cell_type": "code",
   "execution_count": 3,
   "metadata": {},
   "outputs": [],
   "source": [
    "import pandas as pd\n",
    "\n",
    "df_train = pd.read_csv( train_label_path , sep=';' , header=None , names = ['img_path','text'] )\n",
    "df_train = df_train.dropna()\n",
    "df_train = df_train.reset_index()\n",
    "\n",
    "df_test = pd.read_csv( test_label_path , sep=';' , header=None , names = ['img_path','text'] )\n",
    "df_test = df_test.dropna()\n",
    "df_test = df_test.reset_index()"
   ]
  },
  {
   "cell_type": "code",
   "execution_count": 4,
   "metadata": {},
   "outputs": [
    {
     "data": {
      "text/html": [
       "<div>\n",
       "<style scoped>\n",
       "    .dataframe tbody tr th:only-of-type {\n",
       "        vertical-align: middle;\n",
       "    }\n",
       "\n",
       "    .dataframe tbody tr th {\n",
       "        vertical-align: top;\n",
       "    }\n",
       "\n",
       "    .dataframe thead th {\n",
       "        text-align: right;\n",
       "    }\n",
       "</style>\n",
       "<table border=\"1\" class=\"dataframe\">\n",
       "  <thead>\n",
       "    <tr style=\"text-align: right;\">\n",
       "      <th></th>\n",
       "      <th>index</th>\n",
       "      <th>img_path</th>\n",
       "      <th>text</th>\n",
       "    </tr>\n",
       "  </thead>\n",
       "  <tbody>\n",
       "    <tr>\n",
       "      <th>0</th>\n",
       "      <td>0</td>\n",
       "      <td>A_1.png</td>\n",
       "      <td>A</td>\n",
       "    </tr>\n",
       "    <tr>\n",
       "      <th>1</th>\n",
       "      <td>1</td>\n",
       "      <td>A_10.png</td>\n",
       "      <td>A</td>\n",
       "    </tr>\n",
       "    <tr>\n",
       "      <th>2</th>\n",
       "      <td>2</td>\n",
       "      <td>A_100.png</td>\n",
       "      <td>A</td>\n",
       "    </tr>\n",
       "    <tr>\n",
       "      <th>3</th>\n",
       "      <td>3</td>\n",
       "      <td>A_101.png</td>\n",
       "      <td>A</td>\n",
       "    </tr>\n",
       "    <tr>\n",
       "      <th>4</th>\n",
       "      <td>4</td>\n",
       "      <td>A_102.png</td>\n",
       "      <td>A</td>\n",
       "    </tr>\n",
       "  </tbody>\n",
       "</table>\n",
       "</div>"
      ],
      "text/plain": [
       "   index   img_path text\n",
       "0      0    A_1.png    A\n",
       "1      1   A_10.png    A\n",
       "2      2  A_100.png    A\n",
       "3      3  A_101.png    A\n",
       "4      4  A_102.png    A"
      ]
     },
     "execution_count": 4,
     "metadata": {},
     "output_type": "execute_result"
    }
   ],
   "source": [
    "df_train.head()"
   ]
  },
  {
   "cell_type": "markdown",
   "metadata": {},
   "source": [
    "> dataframe preprocessing"
   ]
  },
  {
   "cell_type": "code",
   "execution_count": 5,
   "metadata": {},
   "outputs": [],
   "source": [
    "from sklearn import preprocessing\n",
    "import os\n",
    "\n",
    "# label encoder\n",
    "le = preprocessing.LabelEncoder()\n",
    "\n",
    "# train label encoder\n",
    "le.fit_transform( df_train.text )\n",
    "# define the target dict\n",
    "target_dict = { i_key : idx  for idx , i_key in enumerate(  le.classes_ ) }\n",
    "\n",
    "def to_encode( label ):\n",
    "    label_txt = str( label )\n",
    "    return target_dict[ label_txt ]\n",
    "\n",
    "def train_joinpath( path ):\n",
    "  img_path = os.path.join( base_train_dir , path )\n",
    "  return img_path\n",
    "\n",
    "def test_joinpath( path ):\n",
    "  img_path = os.path.join( base_test_dir , path )\n",
    "  return img_path\n",
    "\n",
    "df_train['label'] = df_train.text.apply( to_encode )\n",
    "df_test['label'] = df_test.text.apply( to_encode )\n",
    "df_train['img_path'] = df_train.img_path.apply( train_joinpath )\n",
    "df_test['img_path'] = df_test.img_path.apply( test_joinpath )\n",
    "\n",
    "df_train = df_train.sample(frac=1, random_state=42).reset_index(drop=True)\n",
    "df_test = df_test.sample(frac=1, random_state=42).reset_index(drop=True)"
   ]
  },
  {
   "cell_type": "markdown",
   "metadata": {},
   "source": [
    "> save the target label mapping"
   ]
  },
  {
   "cell_type": "code",
   "execution_count": 6,
   "metadata": {},
   "outputs": [
    {
     "data": {
      "text/plain": [
       "['dataset/target_label.dict']"
      ]
     },
     "execution_count": 6,
     "metadata": {},
     "output_type": "execute_result"
    }
   ],
   "source": [
    "import joblib\n",
    "\n",
    "joblib.dump(target_dict , \"dataset/target_label.dict\") "
   ]
  },
  {
   "cell_type": "code",
   "execution_count": 7,
   "metadata": {
    "tags": []
   },
   "outputs": [
    {
     "name": "stdout",
     "output_type": "stream",
     "text": [
      "Target Label  Classes : ['A' 'BA' 'CA' 'Caruk' 'DA' 'DYA' 'E' 'GA' 'HA' 'HYA' 'I' 'JA' 'K' 'KA'\n",
      " 'KOMA' 'KSA' 'LA' 'LE' 'MA' 'N' 'NDA' 'NGA' 'NYA' 'NYCA' 'NYJA' 'O' 'PA'\n",
      " 'PAMAEH' 'PAMEPET' 'PAMINGKAL' 'PANELENG' 'PANEULEUNG' 'PANGHULU'\n",
      " 'PANGLAYAR' 'PANGWISAD' 'PANOLONG' 'PANYAKRA' 'PANYECEK' 'PANYUKU' 'PRA'\n",
      " 'RA' 'RE' 'RO' 'RWA' 'RYA' 'SA' 'SYA' 'TA' 'TWA' 'TYA' 'U' 'WA' 'YA' 'eu'\n",
      " 'kka' 'mba' 'mpa' 'nma' 'pasangan-wa']\n"
     ]
    }
   ],
   "source": [
    "classes = le.classes_\n",
    "print(\"Target Label  Classes :\", classes)"
   ]
  },
  {
   "cell_type": "markdown",
   "metadata": {},
   "source": [
    "> dataframe sample"
   ]
  },
  {
   "cell_type": "code",
   "execution_count": 8,
   "metadata": {},
   "outputs": [
    {
     "data": {
      "text/html": [
       "<div>\n",
       "<style scoped>\n",
       "    .dataframe tbody tr th:only-of-type {\n",
       "        vertical-align: middle;\n",
       "    }\n",
       "\n",
       "    .dataframe tbody tr th {\n",
       "        vertical-align: top;\n",
       "    }\n",
       "\n",
       "    .dataframe thead th {\n",
       "        text-align: right;\n",
       "    }\n",
       "</style>\n",
       "<table border=\"1\" class=\"dataframe\">\n",
       "  <thead>\n",
       "    <tr style=\"text-align: right;\">\n",
       "      <th></th>\n",
       "      <th>index</th>\n",
       "      <th>img_path</th>\n",
       "      <th>text</th>\n",
       "      <th>label</th>\n",
       "    </tr>\n",
       "  </thead>\n",
       "  <tbody>\n",
       "    <tr>\n",
       "      <th>0</th>\n",
       "      <td>3228</td>\n",
       "      <td>dataset/Text-Classification/train_image/PANYEC...</td>\n",
       "      <td>PANYECEK</td>\n",
       "      <td>37</td>\n",
       "    </tr>\n",
       "    <tr>\n",
       "      <th>1</th>\n",
       "      <td>2816</td>\n",
       "      <td>dataset/Text-Classification/train_image/PANGLA...</td>\n",
       "      <td>PANGLAYAR</td>\n",
       "      <td>33</td>\n",
       "    </tr>\n",
       "    <tr>\n",
       "      <th>2</th>\n",
       "      <td>1532</td>\n",
       "      <td>dataset/Text-Classification/train_image/LA_76.png</td>\n",
       "      <td>LA</td>\n",
       "      <td>16</td>\n",
       "    </tr>\n",
       "    <tr>\n",
       "      <th>3</th>\n",
       "      <td>414</td>\n",
       "      <td>dataset/Text-Classification/train_image/DA_114...</td>\n",
       "      <td>DA</td>\n",
       "      <td>4</td>\n",
       "    </tr>\n",
       "    <tr>\n",
       "      <th>4</th>\n",
       "      <td>4317</td>\n",
       "      <td>dataset/Text-Classification/train_image/WA_3.png</td>\n",
       "      <td>WA</td>\n",
       "      <td>51</td>\n",
       "    </tr>\n",
       "  </tbody>\n",
       "</table>\n",
       "</div>"
      ],
      "text/plain": [
       "   index                                           img_path       text  label\n",
       "0   3228  dataset/Text-Classification/train_image/PANYEC...   PANYECEK     37\n",
       "1   2816  dataset/Text-Classification/train_image/PANGLA...  PANGLAYAR     33\n",
       "2   1532  dataset/Text-Classification/train_image/LA_76.png         LA     16\n",
       "3    414  dataset/Text-Classification/train_image/DA_114...         DA      4\n",
       "4   4317   dataset/Text-Classification/train_image/WA_3.png         WA     51"
      ]
     },
     "execution_count": 8,
     "metadata": {},
     "output_type": "execute_result"
    }
   ],
   "source": [
    "df_train.head()"
   ]
  },
  {
   "cell_type": "markdown",
   "metadata": {},
   "source": [
    "> sample visualization"
   ]
  },
  {
   "cell_type": "code",
   "execution_count": 9,
   "metadata": {},
   "outputs": [
    {
     "name": "stderr",
     "output_type": "stream",
     "text": [
      "/tmp/ipykernel_2451/4183374882.py:6: DeprecationWarning: BICUBIC is deprecated and will be removed in Pillow 10 (2023-07-01). Use Resampling.BICUBIC instead.\n",
      "  img_rgb = np.array(Image.open( df_train.iloc[100].img_path ).resize( (72,72) , PIL.Image.BICUBIC  ))\n"
     ]
    },
    {
     "data": {
      "text/plain": [
       "<matplotlib.image.AxesImage at 0x7fb6ccf8d160>"
      ]
     },
     "execution_count": 9,
     "metadata": {},
     "output_type": "execute_result"
    },
    {
     "data": {
      "image/png": "[encoded data removed]",
      "text/plain": [
       "<Figure size 432x288 with 1 Axes>"
      ]
     },
     "metadata": {
      "needs_background": "light"
     },
     "output_type": "display_data"
    }
   ],
   "source": [
    "from PIL import Image\n",
    "import numpy as np\n",
    "import matplotlib.pyplot as plt\n",
    "import PIL\n",
    "\n",
    "img_rgb = np.array(Image.open( df_train.iloc[100].img_path ).resize( (72,72) , PIL.Image.BICUBIC  ))\n",
    "plt.imshow( img_rgb )"
   ]
  },
  {
   "cell_type": "markdown",
   "metadata": {},
   "source": [
    "## Prepare Dataset"
   ]
  },
  {
   "cell_type": "code",
   "execution_count": 10,
   "metadata": {},
   "outputs": [],
   "source": [
    "def prepare_dateset( df ):\n",
    "    img_set , target_set = [] ,[]\n",
    "    for i_img_path , i_label in zip( df.img_path.values , df.label.values ):\n",
    "        \n",
    "        # read the rgb image\n",
    "        img_rgb = np.array(Image.open( i_img_path ).resize( ( 128 , 128 ) , PIL.Image.BICUBIC  )  )\n",
    "        # add the image into the placeholder\n",
    "        img_set.append(  img_rgb )\n",
    "        target_set.append( tf.keras.utils.to_categorical( i_label , num_classes = len(classes ) ) )\n",
    "    \n",
    "    return np.array( img_set  ).astype(np.float32) , np.array( target_set ) "
   ]
  },
  {
   "cell_type": "code",
   "execution_count": 11,
   "metadata": {},
   "outputs": [
    {
     "name": "stderr",
     "output_type": "stream",
     "text": [
      "/tmp/ipykernel_2451/3570793979.py:6: DeprecationWarning: BICUBIC is deprecated and will be removed in Pillow 10 (2023-07-01). Use Resampling.BICUBIC instead.\n",
      "  img_rgb = np.array(Image.open( i_img_path ).resize( ( 128 , 128 ) , PIL.Image.BICUBIC  )  )\n"
     ]
    },
    {
     "name": "stdout",
     "output_type": "stream",
     "text": [
      "x_train shape: (4397, 128, 128, 3) - y_train shape: (4397, 59)\n",
      "x_test shape: (2718, 128, 128, 3) - y_test shape: (2718, 59)\n"
     ]
    }
   ],
   "source": [
    "NUM_CLASSES = len( target_dict )\n",
    "\n",
    "(x_train, y_train) = prepare_dateset( df_train )\n",
    "(x_test, y_test) = prepare_dateset( df_test )\n",
    "\n",
    "print(f\"x_train shape: {x_train.shape} - y_train shape: {y_train.shape}\")\n",
    "print(f\"x_test shape: {x_test.shape} - y_test shape: {y_test.shape}\")"
   ]
  },
  {
   "cell_type": "markdown",
   "metadata": {
    "id": "YYbKobS8-9cX"
   },
   "source": [
    "## Configure the hyperparameters\n",
    "\n",
    "The hyperparameters are different from the paper. Feel free to tune\n",
    "the hyperparameters yourself."
   ]
  },
  {
   "cell_type": "code",
   "execution_count": 12,
   "metadata": {
    "id": "kd-hmFgv-9cX"
   },
   "outputs": [
    {
     "name": "stdout",
     "output_type": "stream",
     "text": [
      "Patch size: 16 X 16 = 256 \n",
      "Patches per image: 64\n"
     ]
    }
   ],
   "source": [
    "# AUGMENTATION\n",
    "image_size = 128\n",
    "input_shape = (128,128,3)\n",
    "\n",
    "# hyper parameters\n",
    "weight_decay = 0.0001\n",
    "learning_rate = 0.001\n",
    "label_smoothing = 0.1\n",
    "validation_split = 0.2\n",
    "batch_size = 128\n",
    "num_epochs = 200\n",
    "patch_size = 16  # Size of the patches to be extracted from the input images.\n",
    "num_patches = (input_shape[0] // patch_size) ** 2  # Number of patch\n",
    "embedding_dim = 64  # Number of hidden units.\n",
    "mlp_dim = 256\n",
    "dim_coefficient = 4\n",
    "num_heads = 8\n",
    "attention_dropout = 0.3\n",
    "projection_dropout = 0.3\n",
    "num_transformer_blocks = 8  # Number of repetitions of the transformer layer\n",
    "\n",
    "print(f\"Patch size: {patch_size} X {patch_size} = {patch_size ** 2} \")\n",
    "print(f\"Patches per image: {num_patches}\")"
   ]
  },
  {
   "cell_type": "markdown",
   "metadata": {
    "id": "ObNr-K10-9cY"
   },
   "source": [
    "## Use data augmentation\n",
    "\n",
    "A snippet from the paper:\n",
    "\n",
    "*\"According to DeiT, various techniques are required to effectively\n",
    "train ViTs. Thus, we applied data augmentations such as CutMix, Mixup,\n",
    "Auto Augment, Repeated Augment to all models.\"*\n",
    "\n",
    "In this example, we will focus solely on the novelty of the approach\n",
    "and not on reproducing the paper results. For this reason, we\n",
    "don't use the mentioned data augmentation schemes. Please feel\n",
    "free to add to or remove from the augmentation pipeline."
   ]
  },
  {
   "cell_type": "code",
   "execution_count": 13,
   "metadata": {
    "id": "mPZ6iD8c-9cY",
    "tags": []
   },
   "outputs": [
    {
     "name": "stderr",
     "output_type": "stream",
     "text": [
      "2023-01-09 13:45:31.182493: W tensorflow/stream_executor/platform/default/dso_loader.cc:64] Could not load dynamic library 'libcuda.so.1'; dlerror: libcuda.so.1: cannot open shared object file: No such file or directory\n",
      "2023-01-09 13:45:31.182531: W tensorflow/stream_executor/cuda/cuda_driver.cc:269] failed call to cuInit: UNKNOWN ERROR (303)\n",
      "2023-01-09 13:45:31.182559: I tensorflow/stream_executor/cuda/cuda_diagnostics.cc:156] kernel driver does not appear to be running on this host (default): /proc/driver/nvidia/version does not exist\n",
      "2023-01-09 13:45:31.182801: I tensorflow/core/platform/cpu_feature_guard.cc:151] This TensorFlow binary is optimized with oneAPI Deep Neural Network Library (oneDNN) to use the following CPU instructions in performance-critical operations:  AVX2 AVX512F FMA\n",
      "To enable them in other operations, rebuild TensorFlow with the appropriate compiler flags.\n",
      "2023-01-09 13:45:31.189362: W tensorflow/core/framework/cpu_allocator_impl.cc:82] Allocation of 864485376 exceeds 10% of free system memory.\n"
     ]
    }
   ],
   "source": [
    "data_augmentation = keras.Sequential(\n",
    "    [\n",
    "        layers.Normalization(),\n",
    "        layers.Resizing( image_size , image_size ),\n",
    "        layers.RandomFlip(\"horizontal\"),\n",
    "        layers.RandomRotation(factor=0.02),\n",
    "        layers.RandomZoom(height_factor=0.2, width_factor=0.2),\n",
    "    ],\n",
    "    name=\"data_augmentation\",\n",
    ")\n",
    "# Compute the mean and the variance of the training data for normalization.\n",
    "data_augmentation.layers[0].adapt(x_train)"
   ]
  },
  {
   "cell_type": "markdown",
   "metadata": {
    "id": "2klhcLCv-9cb"
   },
   "source": [
    "## Implement the patch extraction and encoding layer\n",
    "\n",
    "This layer accepts projected patches and then adds positional\n",
    "information to them."
   ]
  },
  {
   "cell_type": "code",
   "execution_count": 14,
   "metadata": {
    "id": "tqtKcoLY-9cb"
   },
   "outputs": [],
   "source": [
    "class PatchExtract(layers.Layer):\n",
    "    def __init__(self, patch_size, **kwargs):\n",
    "        super().__init__(**kwargs)\n",
    "        self.patch_size = patch_size\n",
    "\n",
    "    def call(self, images):\n",
    "        batch_size = tf.shape(images)[0]\n",
    "        patches = tf.image.extract_patches(\n",
    "            images=images,\n",
    "            sizes=(1, self.patch_size, self.patch_size, 1),\n",
    "            strides=(1, self.patch_size, self.patch_size, 1),\n",
    "            rates=(1, 1, 1, 1),\n",
    "            padding=\"VALID\",\n",
    "        )\n",
    "        patch_dim = patches.shape[-1]\n",
    "        patch_num = patches.shape[1]\n",
    "        return tf.reshape(patches, (batch_size, patch_num * patch_num, patch_dim))\n",
    "\n",
    "\n",
    "class PatchEmbedding(layers.Layer):\n",
    "    def __init__(self, num_patch, embed_dim, **kwargs):\n",
    "        super().__init__(**kwargs)\n",
    "        self.num_patch = num_patch\n",
    "        self.proj = layers.Dense(embed_dim)\n",
    "        self.pos_embed = layers.Embedding(input_dim=num_patch, output_dim=embed_dim)\n",
    "\n",
    "    def call(self, patch):\n",
    "        pos = tf.range(start=0, limit=self.num_patch, delta=1)\n",
    "        return self.proj(patch) + self.pos_embed(pos)"
   ]
  },
  {
   "cell_type": "markdown",
   "metadata": {},
   "source": [
    "## Implement the external attention block"
   ]
  },
  {
   "cell_type": "code",
   "execution_count": 15,
   "metadata": {
    "id": "uwIWPtBH-9cc"
   },
   "outputs": [],
   "source": [
    "def external_attention(\n",
    "    x, dim, num_heads, dim_coefficient=4, attention_dropout=0, projection_dropout=0\n",
    "):\n",
    "    _, num_patch, channel = x.shape\n",
    "    assert dim % num_heads == 0\n",
    "    num_heads = num_heads * dim_coefficient\n",
    "\n",
    "    x = layers.Dense(dim * dim_coefficient)(x)\n",
    "    # create tensor [batch_size, num_patches, num_heads, dim*dim_coefficient//num_heads]\n",
    "    x = tf.reshape(\n",
    "        x, shape=(-1, num_patch, num_heads, dim * dim_coefficient // num_heads)\n",
    "    )\n",
    "    x = tf.transpose(x, perm=[0, 2, 1, 3])\n",
    "    # a linear layer M_k\n",
    "    attn = layers.Dense(dim // dim_coefficient)(x)\n",
    "    # normalize attention map\n",
    "    attn = layers.Softmax(axis=2)(attn)\n",
    "    # dobule-normalization\n",
    "    attn = attn / (1e-9 + tf.reduce_sum(attn, axis=-1, keepdims=True))\n",
    "    attn = layers.Dropout(attention_dropout)(attn)\n",
    "    # a linear layer M_v\n",
    "    x = layers.Dense(dim * dim_coefficient // num_heads)(attn)\n",
    "    x = tf.transpose(x, perm=[0, 2, 1, 3])\n",
    "    x = tf.reshape(x, [-1, num_patch, dim * dim_coefficient])\n",
    "    # a linear layer to project original dim\n",
    "    x = layers.Dense(dim)(x)\n",
    "    x = layers.Dropout(projection_dropout)(x)\n",
    "    return x"
   ]
  },
  {
   "cell_type": "markdown",
   "metadata": {
    "id": "__DzC0Vx-9cc"
   },
   "source": [
    "## Implement the MLP"
   ]
  },
  {
   "cell_type": "code",
   "execution_count": 16,
   "metadata": {
    "id": "nfXIU3ei-9cc"
   },
   "outputs": [],
   "source": [
    "def mlp(x, embedding_dim, mlp_dim, drop_rate=0.2):\n",
    "    x = layers.Dense(mlp_dim, activation=tf.nn.gelu)(x)\n",
    "    x = layers.Dropout(drop_rate)(x)\n",
    "    x = layers.Dense(embedding_dim)(x)\n",
    "    x = layers.Dropout(drop_rate)(x)\n",
    "    return x"
   ]
  },
  {
   "cell_type": "markdown",
   "metadata": {
    "id": "mUlsFKKs-9cc"
   },
   "source": [
    "## Implement the Transformer block"
   ]
  },
  {
   "cell_type": "code",
   "execution_count": 17,
   "metadata": {
    "id": "eDRvO9en-9cd"
   },
   "outputs": [],
   "source": [
    "def transformer_encoder(\n",
    "    x,\n",
    "    embedding_dim,\n",
    "    mlp_dim,\n",
    "    num_heads,\n",
    "    dim_coefficient,\n",
    "    attention_dropout,\n",
    "    projection_dropout,\n",
    "    attention_type=\"external_attention\",\n",
    "):\n",
    "    residual_1 = x\n",
    "    x = layers.LayerNormalization(epsilon=1e-5)(x)\n",
    "    if attention_type == \"external_attention\":\n",
    "        x = external_attention(\n",
    "            x,\n",
    "            embedding_dim,\n",
    "            num_heads,\n",
    "            dim_coefficient,\n",
    "            attention_dropout,\n",
    "            projection_dropout,\n",
    "        )\n",
    "    elif attention_type == \"self_attention\":\n",
    "        x = layers.MultiHeadAttention(\n",
    "            num_heads=num_heads, key_dim=embedding_dim, dropout=attention_dropout\n",
    "        )(x, x)\n",
    "    x = layers.add([x, residual_1])\n",
    "    residual_2 = x\n",
    "    x = layers.LayerNormalization(epsilon=1e-5)(x)\n",
    "    x = mlp(x, embedding_dim, mlp_dim)\n",
    "    x = layers.add([x, residual_2])\n",
    "    return x\n"
   ]
  },
  {
   "cell_type": "markdown",
   "metadata": {
    "id": "BnBjCmEz-9cd"
   },
   "source": [
    "## Implement the EANet model"
   ]
  },
  {
   "cell_type": "code",
   "execution_count": 18,
   "metadata": {},
   "outputs": [],
   "source": [
    "def get_model(attention_type=\"external_attention\"):\n",
    "    inputs = layers.Input(shape=input_shape)\n",
    "    # Image augment\n",
    "    x = data_augmentation(inputs)\n",
    "    # Extract patches.\n",
    "    x = PatchExtract(patch_size)(x)\n",
    "    # Create patch embedding.\n",
    "    x = PatchEmbedding(num_patches, embedding_dim)(x)\n",
    "    # Create Transformer block.\n",
    "    for _ in range(num_transformer_blocks):\n",
    "        x = transformer_encoder(\n",
    "            x,\n",
    "            embedding_dim,\n",
    "            mlp_dim,\n",
    "            num_heads,\n",
    "            dim_coefficient,\n",
    "            attention_dropout,\n",
    "            projection_dropout,\n",
    "            attention_type,\n",
    "        )\n",
    "\n",
    "    x = layers.GlobalAvgPool1D()(x)\n",
    "    outputs = layers.Dense( len(classes) , activation=\"softmax\")(x)\n",
    "    model = keras.Model(inputs=inputs, outputs=outputs)\n",
    "    return model"
   ]
  },
  {
   "cell_type": "code",
   "execution_count": 19,
   "metadata": {
    "id": "BADJfRp6-9cd",
    "tags": []
   },
   "outputs": [],
   "source": [
    "# Some code is taken from:\n",
    "# https://www.kaggle.com/ashusma/training-rfcx-tensorflow-tpu-effnet-b2.\n",
    "class WarmUpCosine(keras.optimizers.schedules.LearningRateSchedule):\n",
    "    def __init__(\n",
    "        self, learning_rate_base, total_steps, warmup_learning_rate, warmup_steps\n",
    "    ):\n",
    "        super(WarmUpCosine, self).__init__()\n",
    "\n",
    "        self.learning_rate_base = learning_rate_base\n",
    "        self.total_steps = total_steps\n",
    "        self.warmup_learning_rate = warmup_learning_rate\n",
    "        self.warmup_steps = warmup_steps\n",
    "        self.pi = tf.constant(np.pi)\n",
    "\n",
    "    def __call__(self, step):\n",
    "        if self.total_steps < self.warmup_steps:\n",
    "            raise ValueError(\"Total_steps must be larger or equal to warmup_steps.\")\n",
    "\n",
    "        cos_annealed_lr = tf.cos(\n",
    "            self.pi\n",
    "            * (tf.cast(step, tf.float32) - self.warmup_steps)\n",
    "            / float(self.total_steps - self.warmup_steps)\n",
    "        )\n",
    "        learning_rate = 0.5 * self.learning_rate_base * (1 + cos_annealed_lr)\n",
    "\n",
    "        if self.warmup_steps > 0:\n",
    "            if self.learning_rate_base < self.warmup_learning_rate:\n",
    "                raise ValueError(\n",
    "                    \"Learning_rate_base must be larger or equal to \"\n",
    "                    \"warmup_learning_rate.\"\n",
    "                )\n",
    "            slope = (\n",
    "                self.learning_rate_base - self.warmup_learning_rate\n",
    "            ) / self.warmup_steps\n",
    "            warmup_rate = slope * tf.cast(step, tf.float32) + self.warmup_learning_rate\n",
    "            learning_rate = tf.where(\n",
    "                step < self.warmup_steps, warmup_rate, learning_rate\n",
    "            )\n",
    "        return tf.where(\n",
    "            step > self.total_steps, 0.0, learning_rate, name=\"learning_rate\"\n",
    "        )"
   ]
  },
  {
   "cell_type": "markdown",
   "metadata": {},
   "source": [
    "### model training"
   ]
  },
  {
   "cell_type": "code",
   "execution_count": null,
   "metadata": {
    "tags": []
   },
   "outputs": [
    {
     "name": "stdout",
     "output_type": "stream",
     "text": [
      "Epoch 1/200\n"
     ]
    },
    {
     "name": "stderr",
     "output_type": "stream",
     "text": [
      "2023-01-09 13:45:40.310420: W tensorflow/core/framework/cpu_allocator_impl.cc:82] Allocation of 691470336 exceeds 10% of free system memory.\n"
     ]
    },
    {
     "name": "stdout",
     "output_type": "stream",
     "text": [
      "28/28 [==============================] - 53s 2s/step - loss: 4.1598 - accuracy: 0.0355 - top-5-accuracy: 0.1692 - val_loss: 3.9456 - val_accuracy: 0.0364 - val_top-5-accuracy: 0.1682 - lr: 0.0010\n",
      "Epoch 2/200\n",
      "28/28 [==============================] - 40s 1s/step - loss: 3.8501 - accuracy: 0.0560 - top-5-accuracy: 0.2167 - val_loss: 3.7785 - val_accuracy: 0.0852 - val_top-5-accuracy: 0.2568 - lr: 0.0010\n",
      "Epoch 3/200\n",
      "28/28 [==============================] - 40s 1s/step - loss: 3.7502 - accuracy: 0.0631 - top-5-accuracy: 0.2519 - val_loss: 3.6866 - val_accuracy: 0.0682 - val_top-5-accuracy: 0.2614 - lr: 0.0010\n",
      "Epoch 4/200\n",
      "28/28 [==============================] - 40s 1s/step - loss: 3.6876 - accuracy: 0.0779 - top-5-accuracy: 0.2903 - val_loss: 3.6470 - val_accuracy: 0.0841 - val_top-5-accuracy: 0.3148 - lr: 0.0010\n",
      "Epoch 5/200\n",
      "28/28 [==============================] - 40s 1s/step - loss: 3.6244 - accuracy: 0.0967 - top-5-accuracy: 0.3307 - val_loss: 3.5090 - val_accuracy: 0.0841 - val_top-5-accuracy: 0.3500 - lr: 0.0010\n",
      "Epoch 6/200\n",
      "28/28 [==============================] - 40s 1s/step - loss: 3.5024 - accuracy: 0.1066 - top-5-accuracy: 0.3719 - val_loss: 3.4335 - val_accuracy: 0.1159 - val_top-5-accuracy: 0.4284 - lr: 0.0010\n",
      "Epoch 7/200\n",
      "28/28 [==============================] - 40s 1s/step - loss: 3.4340 - accuracy: 0.1356 - top-5-accuracy: 0.4157 - val_loss: 3.4009 - val_accuracy: 0.1386 - val_top-5-accuracy: 0.4261 - lr: 0.0010\n",
      "Epoch 8/200\n",
      "28/28 [==============================] - 40s 1s/step - loss: 3.3984 - accuracy: 0.1319 - top-5-accuracy: 0.4234 - val_loss: 3.3404 - val_accuracy: 0.1432 - val_top-5-accuracy: 0.4557 - lr: 0.0010\n",
      "Epoch 9/200\n",
      "28/28 [==============================] - 40s 1s/step - loss: 3.3293 - accuracy: 0.1513 - top-5-accuracy: 0.4663 - val_loss: 3.2298 - val_accuracy: 0.1670 - val_top-5-accuracy: 0.4932 - lr: 0.0010\n",
      "Epoch 10/200\n",
      "28/28 [==============================] - 39s 1s/step - loss: 3.3446 - accuracy: 0.1544 - top-5-accuracy: 0.4598 - val_loss: 3.1667 - val_accuracy: 0.1886 - val_top-5-accuracy: 0.5602 - lr: 0.0010\n",
      "Epoch 11/200\n",
      "28/28 [==============================] - 39s 1s/step - loss: 3.2065 - accuracy: 0.1931 - top-5-accuracy: 0.5215 - val_loss: 3.1837 - val_accuracy: 0.1875 - val_top-5-accuracy: 0.5614 - lr: 0.0010\n",
      "Epoch 12/200\n",
      "28/28 [==============================] - 39s 1s/step - loss: 3.2284 - accuracy: 0.1814 - top-5-accuracy: 0.5104 - val_loss: 3.1294 - val_accuracy: 0.2091 - val_top-5-accuracy: 0.5511 - lr: 0.0010\n",
      "Epoch 13/200\n",
      "28/28 [==============================] - 40s 1s/step - loss: 3.2011 - accuracy: 0.1865 - top-5-accuracy: 0.5232 - val_loss: 3.0905 - val_accuracy: 0.1966 - val_top-5-accuracy: 0.5807 - lr: 0.0010\n",
      "Epoch 14/200\n",
      "28/28 [==============================] - 40s 1s/step - loss: 3.1409 - accuracy: 0.1999 - top-5-accuracy: 0.5434 - val_loss: 3.0452 - val_accuracy: 0.2205 - val_top-5-accuracy: 0.6080 - lr: 0.0010\n",
      "Epoch 15/200\n",
      "28/28 [==============================] - 40s 1s/step - loss: 3.1088 - accuracy: 0.2087 - top-5-accuracy: 0.5550 - val_loss: 3.0750 - val_accuracy: 0.2239 - val_top-5-accuracy: 0.5955 - lr: 0.0010\n",
      "Epoch 16/200\n",
      "28/28 [==============================] - 40s 1s/step - loss: 3.1459 - accuracy: 0.2053 - top-5-accuracy: 0.5405 - val_loss: 3.0131 - val_accuracy: 0.2352 - val_top-5-accuracy: 0.6114 - lr: 0.0010\n",
      "Epoch 17/200\n",
      "28/28 [==============================] - 40s 1s/step - loss: 3.0731 - accuracy: 0.2155 - top-5-accuracy: 0.5715 - val_loss: 3.0300 - val_accuracy: 0.2250 - val_top-5-accuracy: 0.6000 - lr: 0.0010\n",
      "Epoch 18/200\n",
      "28/28 [==============================] - 40s 1s/step - loss: 3.0884 - accuracy: 0.2130 - top-5-accuracy: 0.5630 - val_loss: 3.0160 - val_accuracy: 0.2261 - val_top-5-accuracy: 0.6205 - lr: 0.0010\n",
      "Epoch 19/200\n",
      "28/28 [==============================] - 40s 1s/step - loss: 3.0167 - accuracy: 0.2334 - top-5-accuracy: 0.5960 - val_loss: 2.9620 - val_accuracy: 0.2568 - val_top-5-accuracy: 0.6386 - lr: 0.0010\n",
      "Epoch 20/200\n",
      "28/28 [==============================] - 40s 1s/step - loss: 3.0186 - accuracy: 0.2343 - top-5-accuracy: 0.5957 - val_loss: 2.9861 - val_accuracy: 0.2375 - val_top-5-accuracy: 0.6295 - lr: 0.0010\n",
      "Epoch 21/200\n",
      "28/28 [==============================] - 39s 1s/step - loss: 3.0555 - accuracy: 0.2172 - top-5-accuracy: 0.5744 - val_loss: 2.9029 - val_accuracy: 0.2739 - val_top-5-accuracy: 0.6455 - lr: 0.0010\n",
      "Epoch 22/200\n",
      "28/28 [==============================] - 39s 1s/step - loss: 2.9863 - accuracy: 0.2465 - top-5-accuracy: 0.6039 - val_loss: 3.0262 - val_accuracy: 0.2250 - val_top-5-accuracy: 0.6159 - lr: 0.0010\n",
      "Epoch 23/200\n",
      "28/28 [==============================] - 40s 1s/step - loss: 2.9685 - accuracy: 0.2405 - top-5-accuracy: 0.6125 - val_loss: 2.8730 - val_accuracy: 0.2625 - val_top-5-accuracy: 0.6466 - lr: 0.0010\n",
      "Epoch 24/200\n",
      "28/28 [==============================] - 40s 1s/step - loss: 2.9529 - accuracy: 0.2405 - top-5-accuracy: 0.6270 - val_loss: 2.8623 - val_accuracy: 0.2716 - val_top-5-accuracy: 0.6580 - lr: 0.0010\n",
      "Epoch 25/200\n",
      "28/28 [==============================] - 40s 1s/step - loss: 2.9098 - accuracy: 0.2565 - top-5-accuracy: 0.6304 - val_loss: 2.8937 - val_accuracy: 0.2705 - val_top-5-accuracy: 0.6466 - lr: 0.0010\n",
      "Epoch 26/200\n",
      "28/28 [==============================] - 40s 1s/step - loss: 2.8979 - accuracy: 0.2556 - top-5-accuracy: 0.6332 - val_loss: 2.8167 - val_accuracy: 0.2909 - val_top-5-accuracy: 0.6784 - lr: 0.0010\n",
      "Epoch 27/200\n",
      "28/28 [==============================] - 40s 1s/step - loss: 2.8972 - accuracy: 0.2681 - top-5-accuracy: 0.6346 - val_loss: 2.8652 - val_accuracy: 0.2693 - val_top-5-accuracy: 0.6591 - lr: 0.0010\n",
      "Epoch 28/200\n",
      "28/28 [==============================] - 40s 1s/step - loss: 2.9050 - accuracy: 0.2565 - top-5-accuracy: 0.6275 - val_loss: 2.9005 - val_accuracy: 0.2534 - val_top-5-accuracy: 0.6432 - lr: 0.0010\n",
      "Epoch 29/200\n",
      "28/28 [==============================] - 39s 1s/step - loss: 2.8763 - accuracy: 0.2772 - top-5-accuracy: 0.6466 - val_loss: 2.8543 - val_accuracy: 0.2670 - val_top-5-accuracy: 0.6409 - lr: 0.0010\n",
      "Epoch 30/200\n",
      "28/28 [==============================] - 40s 1s/step - loss: 2.8292 - accuracy: 0.2826 - top-5-accuracy: 0.6537 - val_loss: 2.8149 - val_accuracy: 0.2977 - val_top-5-accuracy: 0.6750 - lr: 0.0010\n",
      "Epoch 31/200\n",
      "28/28 [==============================] - 40s 1s/step - loss: 2.8099 - accuracy: 0.2838 - top-5-accuracy: 0.6713 - val_loss: 2.7088 - val_accuracy: 0.3284 - val_top-5-accuracy: 0.7148 - lr: 0.0010\n",
      "Epoch 32/200\n",
      "28/28 [==============================] - 39s 1s/step - loss: 2.7947 - accuracy: 0.2914 - top-5-accuracy: 0.6662 - val_loss: 2.7632 - val_accuracy: 0.3091 - val_top-5-accuracy: 0.7000 - lr: 0.0010\n",
      "Epoch 33/200\n",
      "28/28 [==============================] - 39s 1s/step - loss: 2.7416 - accuracy: 0.3057 - top-5-accuracy: 0.6918 - val_loss: 2.7550 - val_accuracy: 0.3080 - val_top-5-accuracy: 0.6784 - lr: 0.0010\n",
      "Epoch 34/200\n",
      "28/28 [==============================] - 40s 1s/step - loss: 2.7491 - accuracy: 0.3040 - top-5-accuracy: 0.6952 - val_loss: 2.8267 - val_accuracy: 0.3000 - val_top-5-accuracy: 0.6716 - lr: 0.0010\n",
      "Epoch 35/200\n",
      "28/28 [==============================] - 40s 1s/step - loss: 2.6993 - accuracy: 0.3253 - top-5-accuracy: 0.7032 - val_loss: 2.6356 - val_accuracy: 0.3523 - val_top-5-accuracy: 0.7500 - lr: 0.0010\n",
      "Epoch 36/200\n",
      "28/28 [==============================] - 40s 1s/step - loss: 2.6676 - accuracy: 0.3372 - top-5-accuracy: 0.7182 - val_loss: 2.6339 - val_accuracy: 0.3511 - val_top-5-accuracy: 0.7432 - lr: 0.0010\n",
      "Epoch 37/200\n",
      "28/28 [==============================] - 40s 1s/step - loss: 2.6828 - accuracy: 0.3258 - top-5-accuracy: 0.7168 - val_loss: 2.7437 - val_accuracy: 0.3341 - val_top-5-accuracy: 0.7034 - lr: 0.0010\n",
      "Epoch 38/200\n",
      "28/28 [==============================] - 40s 1s/step - loss: 2.6482 - accuracy: 0.3321 - top-5-accuracy: 0.7307 - val_loss: 2.5468 - val_accuracy: 0.3886 - val_top-5-accuracy: 0.7693 - lr: 0.0010\n",
      "Epoch 39/200\n",
      "28/28 [==============================] - 40s 1s/step - loss: 2.5894 - accuracy: 0.3705 - top-5-accuracy: 0.7447 - val_loss: 2.5355 - val_accuracy: 0.3932 - val_top-5-accuracy: 0.7761 - lr: 0.0010\n",
      "Epoch 40/200\n",
      "28/28 [==============================] - 40s 1s/step - loss: 2.5706 - accuracy: 0.3693 - top-5-accuracy: 0.7447 - val_loss: 2.5547 - val_accuracy: 0.3852 - val_top-5-accuracy: 0.7739 - lr: 0.0010\n",
      "Epoch 41/200\n",
      "28/28 [==============================] - 40s 1s/step - loss: 2.5874 - accuracy: 0.3628 - top-5-accuracy: 0.7458 - val_loss: 2.6337 - val_accuracy: 0.3489 - val_top-5-accuracy: 0.7318 - lr: 0.0010\n",
      "Epoch 42/200\n",
      "28/28 [==============================] - 40s 1s/step - loss: 2.5513 - accuracy: 0.3765 - top-5-accuracy: 0.7572 - val_loss: 2.5003 - val_accuracy: 0.4125 - val_top-5-accuracy: 0.7750 - lr: 0.0010\n",
      "Epoch 43/200\n",
      "28/28 [==============================] - 40s 1s/step - loss: 2.4732 - accuracy: 0.4103 - top-5-accuracy: 0.7848 - val_loss: 2.5710 - val_accuracy: 0.3727 - val_top-5-accuracy: 0.7670 - lr: 0.0010\n",
      "Epoch 44/200\n",
      "28/28 [==============================] - 40s 1s/step - loss: 2.4958 - accuracy: 0.3907 - top-5-accuracy: 0.7745 - val_loss: 2.5285 - val_accuracy: 0.4205 - val_top-5-accuracy: 0.7648 - lr: 0.0010\n",
      "Epoch 45/200\n",
      "28/28 [==============================] - 40s 1s/step - loss: 2.4488 - accuracy: 0.4057 - top-5-accuracy: 0.7924 - val_loss: 2.3977 - val_accuracy: 0.4273 - val_top-5-accuracy: 0.8068 - lr: 0.0010\n",
      "Epoch 46/200\n",
      "28/28 [==============================] - 40s 1s/step - loss: 2.4215 - accuracy: 0.4188 - top-5-accuracy: 0.7919 - val_loss: 2.3778 - val_accuracy: 0.4443 - val_top-5-accuracy: 0.8091 - lr: 0.0010\n",
      "Epoch 47/200\n",
      "28/28 [==============================] - 39s 1s/step - loss: 2.3636 - accuracy: 0.4308 - top-5-accuracy: 0.8152 - val_loss: 2.4140 - val_accuracy: 0.4307 - val_top-5-accuracy: 0.8091 - lr: 0.0010\n",
      "Epoch 48/200\n",
      "28/28 [==============================] - 40s 1s/step - loss: 2.3282 - accuracy: 0.4478 - top-5-accuracy: 0.8257 - val_loss: 2.3376 - val_accuracy: 0.4557 - val_top-5-accuracy: 0.8148 - lr: 0.0010\n",
      "Epoch 49/200\n",
      "28/28 [==============================] - 40s 1s/step - loss: 2.2764 - accuracy: 0.4757 - top-5-accuracy: 0.8345 - val_loss: 2.3591 - val_accuracy: 0.4352 - val_top-5-accuracy: 0.8352 - lr: 0.0010\n",
      "Epoch 50/200\n",
      "28/28 [==============================] - 40s 1s/step - loss: 2.2426 - accuracy: 0.4822 - top-5-accuracy: 0.8487 - val_loss: 2.2462 - val_accuracy: 0.4966 - val_top-5-accuracy: 0.8375 - lr: 0.0010\n",
      "Epoch 51/200\n",
      "28/28 [==============================] - 40s 1s/step - loss: 2.2277 - accuracy: 0.4831 - top-5-accuracy: 0.8510 - val_loss: 2.2261 - val_accuracy: 0.5057 - val_top-5-accuracy: 0.8432 - lr: 0.0010\n",
      "Epoch 52/200\n",
      "28/28 [==============================] - 40s 1s/step - loss: 2.2049 - accuracy: 0.4973 - top-5-accuracy: 0.8499 - val_loss: 2.1907 - val_accuracy: 0.5250 - val_top-5-accuracy: 0.8420 - lr: 0.0010\n",
      "Epoch 53/200\n",
      "28/28 [==============================] - 40s 1s/step - loss: 2.1613 - accuracy: 0.5183 - top-5-accuracy: 0.8624 - val_loss: 2.2199 - val_accuracy: 0.5170 - val_top-5-accuracy: 0.8659 - lr: 0.0010\n",
      "Epoch 54/200\n",
      "28/28 [==============================] - 40s 1s/step - loss: 2.1789 - accuracy: 0.5064 - top-5-accuracy: 0.8590 - val_loss: 2.2390 - val_accuracy: 0.5045 - val_top-5-accuracy: 0.8489 - lr: 0.0010\n",
      "Epoch 55/200\n",
      "28/28 [==============================] - 40s 1s/step - loss: 2.1424 - accuracy: 0.5223 - top-5-accuracy: 0.8638 - val_loss: 2.1682 - val_accuracy: 0.5170 - val_top-5-accuracy: 0.8625 - lr: 0.0010\n",
      "Epoch 56/200\n",
      "28/28 [==============================] - 40s 1s/step - loss: 2.1068 - accuracy: 0.5232 - top-5-accuracy: 0.8729 - val_loss: 2.1103 - val_accuracy: 0.5670 - val_top-5-accuracy: 0.8864 - lr: 0.0010\n",
      "Epoch 57/200\n",
      "28/28 [==============================] - 40s 1s/step - loss: 2.0553 - accuracy: 0.5567 - top-5-accuracy: 0.8829 - val_loss: 2.0719 - val_accuracy: 0.5716 - val_top-5-accuracy: 0.8932 - lr: 0.0010\n",
      "Epoch 58/200\n",
      "28/28 [==============================] - 40s 1s/step - loss: 2.0334 - accuracy: 0.5630 - top-5-accuracy: 0.8894 - val_loss: 2.0663 - val_accuracy: 0.5739 - val_top-5-accuracy: 0.8784 - lr: 0.0010\n",
      "Epoch 59/200\n",
      "28/28 [==============================] - 40s 1s/step - loss: 2.0006 - accuracy: 0.5735 - top-5-accuracy: 0.8979 - val_loss: 2.0514 - val_accuracy: 0.5739 - val_top-5-accuracy: 0.8864 - lr: 0.0010\n",
      "Epoch 60/200\n",
      "28/28 [==============================] - 40s 1s/step - loss: 1.9766 - accuracy: 0.5712 - top-5-accuracy: 0.8993 - val_loss: 2.0339 - val_accuracy: 0.5932 - val_top-5-accuracy: 0.8909 - lr: 0.0010\n",
      "Epoch 61/200\n",
      "28/28 [==============================] - 40s 1s/step - loss: 1.9667 - accuracy: 0.5783 - top-5-accuracy: 0.9025 - val_loss: 2.0488 - val_accuracy: 0.5795 - val_top-5-accuracy: 0.8705 - lr: 0.0010\n",
      "Epoch 62/200\n",
      "28/28 [==============================] - 40s 1s/step - loss: 1.9743 - accuracy: 0.5795 - top-5-accuracy: 0.9028 - val_loss: 1.9932 - val_accuracy: 0.5909 - val_top-5-accuracy: 0.8784 - lr: 0.0010\n",
      "Epoch 63/200\n",
      "28/28 [==============================] - 40s 1s/step - loss: 1.9481 - accuracy: 0.5874 - top-5-accuracy: 0.9013 - val_loss: 1.9837 - val_accuracy: 0.6080 - val_top-5-accuracy: 0.8898 - lr: 0.0010\n",
      "Epoch 64/200\n",
      "28/28 [==============================] - 39s 1s/step - loss: 1.8993 - accuracy: 0.6025 - top-5-accuracy: 0.9178 - val_loss: 2.0236 - val_accuracy: 0.5955 - val_top-5-accuracy: 0.8886 - lr: 0.0010\n",
      "Epoch 65/200\n",
      "28/28 [==============================] - 40s 1s/step - loss: 1.8646 - accuracy: 0.6167 - top-5-accuracy: 0.9241 - val_loss: 1.9452 - val_accuracy: 0.6227 - val_top-5-accuracy: 0.8920 - lr: 0.0010\n",
      "Epoch 66/200\n",
      "28/28 [==============================] - 40s 1s/step - loss: 1.8437 - accuracy: 0.6278 - top-5-accuracy: 0.9170 - val_loss: 1.8903 - val_accuracy: 0.6273 - val_top-5-accuracy: 0.9102 - lr: 0.0010\n",
      "Epoch 67/200\n",
      "28/28 [==============================] - 40s 1s/step - loss: 1.8121 - accuracy: 0.6409 - top-5-accuracy: 0.9278 - val_loss: 1.9357 - val_accuracy: 0.6125 - val_top-5-accuracy: 0.8977 - lr: 0.0010\n",
      "Epoch 68/200\n",
      "28/28 [==============================] - 40s 1s/step - loss: 1.8243 - accuracy: 0.6429 - top-5-accuracy: 0.9306 - val_loss: 1.9558 - val_accuracy: 0.6159 - val_top-5-accuracy: 0.9000 - lr: 0.0010\n",
      "Epoch 69/200\n",
      "28/28 [==============================] - 40s 1s/step - loss: 1.7996 - accuracy: 0.6406 - top-5-accuracy: 0.9320 - val_loss: 1.8637 - val_accuracy: 0.6466 - val_top-5-accuracy: 0.9205 - lr: 0.0010\n",
      "Epoch 70/200\n",
      "28/28 [==============================] - 40s 1s/step - loss: 1.7840 - accuracy: 0.6514 - top-5-accuracy: 0.9318 - val_loss: 1.8473 - val_accuracy: 0.6432 - val_top-5-accuracy: 0.9227 - lr: 0.0010\n",
      "Epoch 71/200\n",
      "28/28 [==============================] - 40s 1s/step - loss: 1.7256 - accuracy: 0.6750 - top-5-accuracy: 0.9409 - val_loss: 1.8801 - val_accuracy: 0.6318 - val_top-5-accuracy: 0.9091 - lr: 0.0010\n",
      "Epoch 72/200\n",
      "28/28 [==============================] - 40s 1s/step - loss: 1.7623 - accuracy: 0.6588 - top-5-accuracy: 0.9335 - val_loss: 1.9293 - val_accuracy: 0.6398 - val_top-5-accuracy: 0.8977 - lr: 0.0010\n",
      "Epoch 73/200\n",
      "28/28 [==============================] - 40s 1s/step - loss: 1.7007 - accuracy: 0.6804 - top-5-accuracy: 0.9440 - val_loss: 1.8278 - val_accuracy: 0.6420 - val_top-5-accuracy: 0.9159 - lr: 0.0010\n",
      "Epoch 74/200\n",
      "28/28 [==============================] - 40s 1s/step - loss: 1.6705 - accuracy: 0.7012 - top-5-accuracy: 0.9471 - val_loss: 1.7887 - val_accuracy: 0.6784 - val_top-5-accuracy: 0.9216 - lr: 0.0010\n",
      "Epoch 75/200\n",
      "28/28 [==============================] - 40s 1s/step - loss: 1.6702 - accuracy: 0.7003 - top-5-accuracy: 0.9468 - val_loss: 1.7859 - val_accuracy: 0.6898 - val_top-5-accuracy: 0.9216 - lr: 0.0010\n",
      "Epoch 76/200\n",
      "28/28 [==============================] - 39s 1s/step - loss: 1.6290 - accuracy: 0.7057 - top-5-accuracy: 0.9522 - val_loss: 1.7347 - val_accuracy: 0.6841 - val_top-5-accuracy: 0.9364 - lr: 0.0010\n",
      "Epoch 77/200\n",
      "28/28 [==============================] - 39s 1s/step - loss: 1.6118 - accuracy: 0.7236 - top-5-accuracy: 0.9537 - val_loss: 1.7088 - val_accuracy: 0.6955 - val_top-5-accuracy: 0.9273 - lr: 0.0010\n",
      "Epoch 78/200\n",
      "28/28 [==============================] - 39s 1s/step - loss: 1.6561 - accuracy: 0.7040 - top-5-accuracy: 0.9511 - val_loss: 1.7690 - val_accuracy: 0.6795 - val_top-5-accuracy: 0.9318 - lr: 0.0010\n",
      "Epoch 80/200\n",
      "28/28 [==============================] - 40s 1s/step - loss: 1.6136 - accuracy: 0.7154 - top-5-accuracy: 0.9574 - val_loss: 1.6981 - val_accuracy: 0.7080 - val_top-5-accuracy: 0.9318 - lr: 0.0010\n",
      "Epoch 81/200\n",
      "28/28 [==============================] - 40s 1s/step - loss: 1.5708 - accuracy: 0.7296 - top-5-accuracy: 0.9613 - val_loss: 1.7103 - val_accuracy: 0.7102 - val_top-5-accuracy: 0.9375 - lr: 0.0010\n",
      "Epoch 82/200\n",
      "28/28 [==============================] - 40s 1s/step - loss: 1.5566 - accuracy: 0.7384 - top-5-accuracy: 0.9625 - val_loss: 1.6812 - val_accuracy: 0.7239 - val_top-5-accuracy: 0.9364 - lr: 0.0010\n",
      "Epoch 83/200\n",
      "28/28 [==============================] - 40s 1s/step - loss: 1.5427 - accuracy: 0.7518 - top-5-accuracy: 0.9667 - val_loss: 1.7158 - val_accuracy: 0.7182 - val_top-5-accuracy: 0.9341 - lr: 0.0010\n",
      "Epoch 84/200\n",
      "28/28 [==============================] - 40s 1s/step - loss: 1.5256 - accuracy: 0.7632 - top-5-accuracy: 0.9639 - val_loss: 1.7510 - val_accuracy: 0.6864 - val_top-5-accuracy: 0.9341 - lr: 0.0010\n",
      "Epoch 85/200\n",
      "28/28 [==============================] - 40s 1s/step - loss: 1.5153 - accuracy: 0.7538 - top-5-accuracy: 0.9696 - val_loss: 1.6907 - val_accuracy: 0.7148 - val_top-5-accuracy: 0.9375 - lr: 0.0010\n",
      "Epoch 86/200\n",
      "28/28 [==============================] - 40s 1s/step - loss: 1.5116 - accuracy: 0.7526 - top-5-accuracy: 0.9670 - val_loss: 1.6697 - val_accuracy: 0.7125 - val_top-5-accuracy: 0.9398 - lr: 0.0010\n",
      "Epoch 87/200\n",
      "28/28 [==============================] - 40s 1s/step - loss: 1.4705 - accuracy: 0.7694 - top-5-accuracy: 0.9716 - val_loss: 1.6164 - val_accuracy: 0.7364 - val_top-5-accuracy: 0.9432 - lr: 0.0010\n",
      "Epoch 88/200\n",
      "28/28 [==============================] - 40s 1s/step - loss: 1.4750 - accuracy: 0.7751 - top-5-accuracy: 0.9727 - val_loss: 1.7013 - val_accuracy: 0.7227 - val_top-5-accuracy: 0.9330 - lr: 0.0010\n",
      "Epoch 89/200\n",
      "28/28 [==============================] - 40s 1s/step - loss: 1.4747 - accuracy: 0.7686 - top-5-accuracy: 0.9736 - val_loss: 1.6953 - val_accuracy: 0.7159 - val_top-5-accuracy: 0.9386 - lr: 0.0010\n",
      "Epoch 90/200\n",
      "28/28 [==============================] - 40s 1s/step - loss: 1.4810 - accuracy: 0.7708 - top-5-accuracy: 0.9701 - val_loss: 1.6348 - val_accuracy: 0.7420 - val_top-5-accuracy: 0.9511 - lr: 0.0010\n",
      "Epoch 91/200\n",
      "28/28 [==============================] - 40s 1s/step - loss: 1.4595 - accuracy: 0.7833 - top-5-accuracy: 0.9750 - val_loss: 1.6447 - val_accuracy: 0.7295 - val_top-5-accuracy: 0.9466 - lr: 0.0010\n",
      "Epoch 92/200\n",
      "28/28 [==============================] - 40s 1s/step - loss: 1.4473 - accuracy: 0.7825 - top-5-accuracy: 0.9696 - val_loss: 1.5794 - val_accuracy: 0.7477 - val_top-5-accuracy: 0.9489 - lr: 0.0010\n",
      "Epoch 93/200\n",
      "28/28 [==============================] - 39s 1s/step - loss: 1.4269 - accuracy: 0.7970 - top-5-accuracy: 0.9747 - val_loss: 1.6017 - val_accuracy: 0.7409 - val_top-5-accuracy: 0.9500 - lr: 0.0010\n",
      "Epoch 94/200\n",
      "28/28 [==============================] - 40s 1s/step - loss: 1.4412 - accuracy: 0.7879 - top-5-accuracy: 0.9727 - val_loss: 1.5778 - val_accuracy: 0.7580 - val_top-5-accuracy: 0.9523 - lr: 0.0010\n",
      "Epoch 95/200\n",
      "28/28 [==============================] - 40s 1s/step - loss: 1.4120 - accuracy: 0.8015 - top-5-accuracy: 0.9804 - val_loss: 1.5558 - val_accuracy: 0.7489 - val_top-5-accuracy: 0.9602 - lr: 0.0010\n",
      "Epoch 96/200\n",
      "28/28 [==============================] - 40s 1s/step - loss: 1.3886 - accuracy: 0.8067 - top-5-accuracy: 0.9815 - val_loss: 1.5854 - val_accuracy: 0.7534 - val_top-5-accuracy: 0.9489 - lr: 0.0010\n",
      "Epoch 97/200\n",
      "28/28 [==============================] - 40s 1s/step - loss: 1.3819 - accuracy: 0.8081 - top-5-accuracy: 0.9838 - val_loss: 1.5428 - val_accuracy: 0.7659 - val_top-5-accuracy: 0.9489 - lr: 0.0010\n",
      "Epoch 98/200\n",
      "28/28 [==============================] - 40s 1s/step - loss: 1.3661 - accuracy: 0.8149 - top-5-accuracy: 0.9818 - val_loss: 1.5280 - val_accuracy: 0.7773 - val_top-5-accuracy: 0.9534 - lr: 0.0010\n",
      "Epoch 99/200\n",
      "28/28 [==============================] - 39s 1s/step - loss: 1.3772 - accuracy: 0.8072 - top-5-accuracy: 0.9798 - val_loss: 1.5436 - val_accuracy: 0.7807 - val_top-5-accuracy: 0.9557 - lr: 0.0010\n",
      "Epoch 100/200\n",
      "28/28 [==============================] - 40s 1s/step - loss: 1.4242 - accuracy: 0.7910 - top-5-accuracy: 0.9764 - val_loss: 1.5687 - val_accuracy: 0.7625 - val_top-5-accuracy: 0.9455 - lr: 0.0010\n",
      "Epoch 101/200\n",
      "28/28 [==============================] - 40s 1s/step - loss: 1.3811 - accuracy: 0.8109 - top-5-accuracy: 0.9798 - val_loss: 1.5425 - val_accuracy: 0.7545 - val_top-5-accuracy: 0.9534 - lr: 0.0010\n",
      "Epoch 102/200\n",
      "28/28 [==============================] - 40s 1s/step - loss: 1.3615 - accuracy: 0.8175 - top-5-accuracy: 0.9812 - val_loss: 1.5252 - val_accuracy: 0.7830 - val_top-5-accuracy: 0.9568 - lr: 0.0010\n",
      "Epoch 103/200\n",
      "28/28 [==============================] - 40s 1s/step - loss: 1.3282 - accuracy: 0.8271 - top-5-accuracy: 0.9866 - val_loss: 1.5781 - val_accuracy: 0.7523 - val_top-5-accuracy: 0.9500 - lr: 0.0010\n",
      "Epoch 104/200\n",
      "28/28 [==============================] - 40s 1s/step - loss: 1.3185 - accuracy: 0.8430 - top-5-accuracy: 0.9881 - val_loss: 1.5383 - val_accuracy: 0.7807 - val_top-5-accuracy: 0.9500 - lr: 0.0010\n",
      "Epoch 105/200\n",
      "28/28 [==============================] - 40s 1s/step - loss: 1.3612 - accuracy: 0.8123 - top-5-accuracy: 0.9807 - val_loss: 1.5316 - val_accuracy: 0.7682 - val_top-5-accuracy: 0.9523 - lr: 0.0010\n",
      "Epoch 106/200\n",
      "28/28 [==============================] - 40s 1s/step - loss: 1.3209 - accuracy: 0.8339 - top-5-accuracy: 0.9864 - val_loss: 1.4910 - val_accuracy: 0.7875 - val_top-5-accuracy: 0.9557 - lr: 0.0010\n",
      "Epoch 107/200\n",
      "28/28 [==============================] - 40s 1s/step - loss: 1.2987 - accuracy: 0.8482 - top-5-accuracy: 0.9844 - val_loss: 1.5224 - val_accuracy: 0.7852 - val_top-5-accuracy: 0.9534 - lr: 0.0010\n",
      "Epoch 108/200\n",
      "28/28 [==============================] - 39s 1s/step - loss: 1.3233 - accuracy: 0.8362 - top-5-accuracy: 0.9838 - val_loss: 1.4817 - val_accuracy: 0.7852 - val_top-5-accuracy: 0.9636 - lr: 0.0010\n",
      "Epoch 109/200\n",
      "28/28 [==============================] - 40s 1s/step - loss: 1.2903 - accuracy: 0.8436 - top-5-accuracy: 0.9886 - val_loss: 1.5302 - val_accuracy: 0.7727 - val_top-5-accuracy: 0.9625 - lr: 0.0010\n",
      "Epoch 110/200\n",
      "28/28 [==============================] - 40s 1s/step - loss: 1.2862 - accuracy: 0.8470 - top-5-accuracy: 0.9869 - val_loss: 1.5417 - val_accuracy: 0.7807 - val_top-5-accuracy: 0.9580 - lr: 0.0010\n",
      "Epoch 111/200\n",
      "28/28 [==============================] - 40s 1s/step - loss: 1.2879 - accuracy: 0.8382 - top-5-accuracy: 0.9918 - val_loss: 1.5672 - val_accuracy: 0.7682 - val_top-5-accuracy: 0.9477 - lr: 0.0010\n",
      "Epoch 112/200\n",
      "28/28 [==============================] - 39s 1s/step - loss: 1.2873 - accuracy: 0.8445 - top-5-accuracy: 0.9855 - val_loss: 1.4814 - val_accuracy: 0.7989 - val_top-5-accuracy: 0.9545 - lr: 0.0010\n",
      "Epoch 113/200\n",
      "28/28 [==============================] - 39s 1s/step - loss: 1.2705 - accuracy: 0.8604 - top-5-accuracy: 0.9858 - val_loss: 1.4845 - val_accuracy: 0.7932 - val_top-5-accuracy: 0.9625 - lr: 0.0010\n",
      "Epoch 114/200\n",
      "28/28 [==============================] - 40s 1s/step - loss: 1.2596 - accuracy: 0.8544 - top-5-accuracy: 0.9900 - val_loss: 1.4746 - val_accuracy: 0.7989 - val_top-5-accuracy: 0.9636 - lr: 0.0010\n",
      "Epoch 115/200\n",
      "28/28 [==============================] - 40s 1s/step - loss: 1.2634 - accuracy: 0.8499 - top-5-accuracy: 0.9912 - val_loss: 1.4693 - val_accuracy: 0.8057 - val_top-5-accuracy: 0.9636 - lr: 0.0010\n",
      "Epoch 116/200\n",
      "28/28 [==============================] - 40s 1s/step - loss: 1.2555 - accuracy: 0.8536 - top-5-accuracy: 0.9918 - val_loss: 1.5031 - val_accuracy: 0.7852 - val_top-5-accuracy: 0.9659 - lr: 0.0010\n",
      "Epoch 117/200\n",
      "28/28 [==============================] - 40s 1s/step - loss: 1.2449 - accuracy: 0.8635 - top-5-accuracy: 0.9889 - val_loss: 1.4640 - val_accuracy: 0.8068 - val_top-5-accuracy: 0.9636 - lr: 0.0010\n",
      "Epoch 118/200\n",
      "28/28 [==============================] - 39s 1s/step - loss: 1.2437 - accuracy: 0.8595 - top-5-accuracy: 0.9915 - val_loss: 1.4813 - val_accuracy: 0.7989 - val_top-5-accuracy: 0.9648 - lr: 0.0010\n",
      "Epoch 119/200\n",
      "28/28 [==============================] - 40s 1s/step - loss: 1.2212 - accuracy: 0.8658 - top-5-accuracy: 0.9918 - val_loss: 1.5005 - val_accuracy: 0.7830 - val_top-5-accuracy: 0.9580 - lr: 0.0010\n",
      "Epoch 120/200\n",
      "28/28 [==============================] - 40s 1s/step - loss: 1.2302 - accuracy: 0.8641 - top-5-accuracy: 0.9903 - val_loss: 1.5106 - val_accuracy: 0.7932 - val_top-5-accuracy: 0.9625 - lr: 0.0010\n",
      "Epoch 121/200\n",
      "28/28 [==============================] - 40s 1s/step - loss: 1.2252 - accuracy: 0.8678 - top-5-accuracy: 0.9906 - val_loss: 1.4565 - val_accuracy: 0.8080 - val_top-5-accuracy: 0.9648 - lr: 0.0010\n",
      "Epoch 122/200\n",
      "28/28 [==============================] - 39s 1s/step - loss: 1.2006 - accuracy: 0.8806 - top-5-accuracy: 0.9909 - val_loss: 1.5007 - val_accuracy: 0.7932 - val_top-5-accuracy: 0.9557 - lr: 0.0010\n",
      "Epoch 123/200\n",
      "28/28 [==============================] - 40s 1s/step - loss: 1.2151 - accuracy: 0.8743 - top-5-accuracy: 0.9912 - val_loss: 1.4509 - val_accuracy: 0.8216 - val_top-5-accuracy: 0.9670 - lr: 0.0010\n",
      "Epoch 124/200\n",
      "28/28 [==============================] - 40s 1s/step - loss: 1.1875 - accuracy: 0.8846 - top-5-accuracy: 0.9923 - val_loss: 1.4910 - val_accuracy: 0.8000 - val_top-5-accuracy: 0.9591 - lr: 0.0010\n",
      "Epoch 125/200\n",
      "28/28 [==============================] - 40s 1s/step - loss: 1.2094 - accuracy: 0.8718 - top-5-accuracy: 0.9932 - val_loss: 1.4803 - val_accuracy: 0.8068 - val_top-5-accuracy: 0.9591 - lr: 0.0010\n",
      "Epoch 126/200\n",
      "28/28 [==============================] - 40s 1s/step - loss: 1.2018 - accuracy: 0.8766 - top-5-accuracy: 0.9926 - val_loss: 1.4681 - val_accuracy: 0.8000 - val_top-5-accuracy: 0.9682 - lr: 0.0010\n",
      "Epoch 127/200\n",
      "28/28 [==============================] - 39s 1s/step - loss: 1.2029 - accuracy: 0.8794 - top-5-accuracy: 0.9923 - val_loss: 1.4758 - val_accuracy: 0.8023 - val_top-5-accuracy: 0.9682 - lr: 0.0010\n",
      "Epoch 128/200\n",
      "28/28 [==============================] - 40s 1s/step - loss: 1.2040 - accuracy: 0.8760 - top-5-accuracy: 0.9915 - val_loss: 1.4543 - val_accuracy: 0.8148 - val_top-5-accuracy: 0.9670 - lr: 0.0010\n",
      "Epoch 129/200\n",
      "28/28 [==============================] - 40s 1s/step - loss: 1.1919 - accuracy: 0.8811 - top-5-accuracy: 0.9929 - val_loss: 1.4515 - val_accuracy: 0.8216 - val_top-5-accuracy: 0.9636 - lr: 0.0010\n",
      "Epoch 130/200\n",
      "28/28 [==============================] - 40s 1s/step - loss: 1.1871 - accuracy: 0.8883 - top-5-accuracy: 0.9918 - val_loss: 1.4914 - val_accuracy: 0.7909 - val_top-5-accuracy: 0.9591 - lr: 0.0010\n",
      "Epoch 131/200\n",
      "28/28 [==============================] - 39s 1s/step - loss: 1.1646 - accuracy: 0.8891 - top-5-accuracy: 0.9940 - val_loss: 1.4269 - val_accuracy: 0.8205 - val_top-5-accuracy: 0.9659 - lr: 0.0010\n",
      "Epoch 132/200\n",
      "28/28 [==============================] - 40s 1s/step - loss: 1.1611 - accuracy: 0.8974 - top-5-accuracy: 0.9963 - val_loss: 1.4612 - val_accuracy: 0.8125 - val_top-5-accuracy: 0.9568 - lr: 0.0010\n",
      "Epoch 133/200\n",
      "28/28 [==============================] - 39s 1s/step - loss: 1.1819 - accuracy: 0.8880 - top-5-accuracy: 0.9920 - val_loss: 1.4679 - val_accuracy: 0.8205 - val_top-5-accuracy: 0.9659 - lr: 0.0010\n",
      "Epoch 134/200\n",
      "28/28 [==============================] - 40s 1s/step - loss: 1.1394 - accuracy: 0.8988 - top-5-accuracy: 0.9952 - val_loss: 1.4370 - val_accuracy: 0.8193 - val_top-5-accuracy: 0.9636 - lr: 0.0010\n",
      "Epoch 143/200\n",
      "28/28 [==============================] - 40s 1s/step - loss: 1.1297 - accuracy: 0.9073 - top-5-accuracy: 0.9955 - val_loss: 1.4242 - val_accuracy: 0.8193 - val_top-5-accuracy: 0.9636 - lr: 0.0010\n",
      "Epoch 144/200\n",
      "28/28 [==============================] - 40s 1s/step - loss: 1.1377 - accuracy: 0.8991 - top-5-accuracy: 0.9949 - val_loss: 1.4376 - val_accuracy: 0.8170 - val_top-5-accuracy: 0.9693 - lr: 0.0010\n",
      "Epoch 145/200\n",
      "28/28 [==============================] - 40s 1s/step - loss: 1.1278 - accuracy: 0.9045 - top-5-accuracy: 0.9972 - val_loss: 1.4242 - val_accuracy: 0.8193 - val_top-5-accuracy: 0.9716 - lr: 0.0010\n",
      "Epoch 146/200\n",
      "28/28 [==============================] - 39s 1s/step - loss: 1.1155 - accuracy: 0.9090 - top-5-accuracy: 0.9955 - val_loss: 1.4381 - val_accuracy: 0.8034 - val_top-5-accuracy: 0.9648 - lr: 0.0010\n",
      "Epoch 147/200\n",
      "28/28 [==============================] - 40s 1s/step - loss: 1.1229 - accuracy: 0.9107 - top-5-accuracy: 0.9946 - val_loss: 1.3961 - val_accuracy: 0.8295 - val_top-5-accuracy: 0.9648 - lr: 0.0010\n",
      "Epoch 148/200\n",
      "28/28 [==============================] - 39s 1s/step - loss: 1.1070 - accuracy: 0.9158 - top-5-accuracy: 0.9980 - val_loss: 1.4346 - val_accuracy: 0.8125 - val_top-5-accuracy: 0.9659 - lr: 0.0010\n",
      "Epoch 149/200\n",
      "28/28 [==============================] - 39s 1s/step - loss: 1.1259 - accuracy: 0.9067 - top-5-accuracy: 0.9952 - val_loss: 1.3925 - val_accuracy: 0.8284 - val_top-5-accuracy: 0.9659 - lr: 0.0010\n",
      "Epoch 150/200\n",
      "28/28 [==============================] - 39s 1s/step - loss: 1.0986 - accuracy: 0.9121 - top-5-accuracy: 0.9972 - val_loss: 1.3990 - val_accuracy: 0.8136 - val_top-5-accuracy: 0.9693 - lr: 0.0010\n",
      "Epoch 151/200\n",
      "28/28 [==============================] - 39s 1s/step - loss: 1.1009 - accuracy: 0.9204 - top-5-accuracy: 0.9960 - val_loss: 1.4297 - val_accuracy: 0.8227 - val_top-5-accuracy: 0.9602 - lr: 0.0010\n",
      "Epoch 152/200\n",
      "28/28 [==============================] - 40s 1s/step - loss: 1.0948 - accuracy: 0.9195 - top-5-accuracy: 0.9977 - val_loss: 1.3948 - val_accuracy: 0.8261 - val_top-5-accuracy: 0.9750 - lr: 0.0010\n",
      "Epoch 153/200\n",
      "28/28 [==============================] - 39s 1s/step - loss: 1.0930 - accuracy: 0.9178 - top-5-accuracy: 0.9955 - val_loss: 1.4489 - val_accuracy: 0.8091 - val_top-5-accuracy: 0.9636 - lr: 0.0010\n",
      "Epoch 154/200\n",
      "28/28 [==============================] - 39s 1s/step - loss: 1.0964 - accuracy: 0.9127 - top-5-accuracy: 0.9972 - val_loss: 1.4346 - val_accuracy: 0.8193 - val_top-5-accuracy: 0.9659 - lr: 0.0010\n",
      "Epoch 155/200\n",
      "28/28 [==============================] - 40s 1s/step - loss: 1.1084 - accuracy: 0.9099 - top-5-accuracy: 0.9974 - val_loss: 1.4411 - val_accuracy: 0.8034 - val_top-5-accuracy: 0.9591 - lr: 0.0010\n",
      "Epoch 156/200\n",
      "28/28 [==============================] - 39s 1s/step - loss: 1.0904 - accuracy: 0.9244 - top-5-accuracy: 0.9966 - val_loss: 1.4244 - val_accuracy: 0.8170 - val_top-5-accuracy: 0.9648 - lr: 0.0010\n",
      "Epoch 157/200\n",
      "28/28 [==============================] - 40s 1s/step - loss: 1.0657 - accuracy: 0.9244 - top-5-accuracy: 0.9986 - val_loss: 1.3961 - val_accuracy: 0.8398 - val_top-5-accuracy: 0.9648 - lr: 0.0010\n",
      "Epoch 158/200\n",
      "28/28 [==============================] - 39s 1s/step - loss: 1.0778 - accuracy: 0.9258 - top-5-accuracy: 0.9983 - val_loss: 1.3904 - val_accuracy: 0.8307 - val_top-5-accuracy: 0.9716 - lr: 0.0010\n",
      "Epoch 159/200\n",
      "28/28 [==============================] - 40s 1s/step - loss: 1.0561 - accuracy: 0.9352 - top-5-accuracy: 0.9980 - val_loss: 1.4161 - val_accuracy: 0.8341 - val_top-5-accuracy: 0.9614 - lr: 0.0010\n",
      "Epoch 160/200\n",
      "28/28 [==============================] - 40s 1s/step - loss: 1.0744 - accuracy: 0.9247 - top-5-accuracy: 0.9963 - val_loss: 1.3875 - val_accuracy: 0.8330 - val_top-5-accuracy: 0.9659 - lr: 0.0010\n",
      "Epoch 161/200\n",
      "28/28 [==============================] - 40s 1s/step - loss: 1.0786 - accuracy: 0.9238 - top-5-accuracy: 0.9969 - val_loss: 1.3960 - val_accuracy: 0.8330 - val_top-5-accuracy: 0.9614 - lr: 0.0010\n",
      "Epoch 162/200\n",
      "28/28 [==============================] - 40s 1s/step - loss: 1.0872 - accuracy: 0.9212 - top-5-accuracy: 0.9972 - val_loss: 1.4252 - val_accuracy: 0.8341 - val_top-5-accuracy: 0.9727 - lr: 0.0010\n",
      "Epoch 163/200\n",
      "28/28 [==============================] - 40s 1s/step - loss: 1.0617 - accuracy: 0.9295 - top-5-accuracy: 0.9980 - val_loss: 1.4030 - val_accuracy: 0.8330 - val_top-5-accuracy: 0.9670 - lr: 0.0010\n",
      "Epoch 164/200\n",
      "28/28 [==============================] - 40s 1s/step - loss: 1.0484 - accuracy: 0.9377 - top-5-accuracy: 0.9974 - val_loss: 1.3806 - val_accuracy: 0.8420 - val_top-5-accuracy: 0.9670 - lr: 0.0010\n",
      "Epoch 165/200\n",
      "28/28 [==============================] - 40s 1s/step - loss: 1.0781 - accuracy: 0.9258 - top-5-accuracy: 0.9972 - val_loss: 1.3848 - val_accuracy: 0.8375 - val_top-5-accuracy: 0.9659 - lr: 0.0010\n",
      "Epoch 166/200\n",
      "28/28 [==============================] - 40s 1s/step - loss: 1.0677 - accuracy: 0.9235 - top-5-accuracy: 0.9986 - val_loss: 1.3955 - val_accuracy: 0.8352 - val_top-5-accuracy: 0.9693 - lr: 0.0010\n",
      "Epoch 167/200\n",
      "28/28 [==============================] - 40s 1s/step - loss: 1.0505 - accuracy: 0.9400 - top-5-accuracy: 0.9977 - val_loss: 1.3647 - val_accuracy: 0.8443 - val_top-5-accuracy: 0.9659 - lr: 0.0010\n",
      "Epoch 168/200\n",
      "28/28 [==============================] - 40s 1s/step - loss: 1.0500 - accuracy: 0.9386 - top-5-accuracy: 0.9980 - val_loss: 1.3850 - val_accuracy: 0.8375 - val_top-5-accuracy: 0.9682 - lr: 0.0010\n",
      "Epoch 169/200\n",
      "28/28 [==============================] - 39s 1s/step - loss: 1.0572 - accuracy: 0.9301 - top-5-accuracy: 0.9977 - val_loss: 1.3869 - val_accuracy: 0.8432 - val_top-5-accuracy: 0.9705 - lr: 0.0010\n",
      "Epoch 170/200\n",
      "28/28 [==============================] - 40s 1s/step - loss: 1.0529 - accuracy: 0.9332 - top-5-accuracy: 0.9986 - val_loss: 1.4189 - val_accuracy: 0.8227 - val_top-5-accuracy: 0.9659 - lr: 0.0010\n",
      "Epoch 171/200\n",
      "28/28 [==============================] - 39s 1s/step - loss: 1.0394 - accuracy: 0.9414 - top-5-accuracy: 0.9974 - val_loss: 1.3656 - val_accuracy: 0.8386 - val_top-5-accuracy: 0.9716 - lr: 0.0010\n",
      "Epoch 172/200\n",
      "28/28 [==============================] - 39s 1s/step - loss: 1.0448 - accuracy: 0.9360 - top-5-accuracy: 0.9986 - val_loss: 1.4262 - val_accuracy: 0.8205 - val_top-5-accuracy: 0.9636 - lr: 0.0010\n",
      "Epoch 173/200\n",
      "28/28 [==============================] - 40s 1s/step - loss: 1.0336 - accuracy: 0.9434 - top-5-accuracy: 0.9989 - val_loss: 1.3824 - val_accuracy: 0.8330 - val_top-5-accuracy: 0.9648 - lr: 0.0010\n",
      "Epoch 174/200\n",
      "28/28 [==============================] - 39s 1s/step - loss: 1.0469 - accuracy: 0.9323 - top-5-accuracy: 0.9994 - val_loss: 1.4007 - val_accuracy: 0.8295 - val_top-5-accuracy: 0.9625 - lr: 0.0010\n",
      "Epoch 175/200\n",
      "28/28 [==============================] - 40s 1s/step - loss: 1.0495 - accuracy: 0.9343 - top-5-accuracy: 0.9989 - val_loss: 1.3671 - val_accuracy: 0.8455 - val_top-5-accuracy: 0.9648 - lr: 0.0010\n",
      "Epoch 176/200\n",
      "28/28 [==============================] - 40s 1s/step - loss: 1.0317 - accuracy: 0.9383 - top-5-accuracy: 1.0000 - val_loss: 1.3871 - val_accuracy: 0.8375 - val_top-5-accuracy: 0.9670 - lr: 0.0010\n",
      "Epoch 177/200\n",
      "28/28 [==============================] - 39s 1s/step - loss: 1.0421 - accuracy: 0.9340 - top-5-accuracy: 0.9986 - val_loss: 1.4026 - val_accuracy: 0.8330 - val_top-5-accuracy: 0.9636 - lr: 0.0010\n",
      "Epoch 178/200\n",
      "28/28 [==============================] - 39s 1s/step - loss: 1.0322 - accuracy: 0.9400 - top-5-accuracy: 0.9991 - val_loss: 1.3408 - val_accuracy: 0.8466 - val_top-5-accuracy: 0.9648 - lr: 0.0010\n",
      "Epoch 179/200\n",
      "28/28 [==============================] - 40s 1s/step - loss: 1.0350 - accuracy: 0.9451 - top-5-accuracy: 0.9980 - val_loss: 1.3711 - val_accuracy: 0.8489 - val_top-5-accuracy: 0.9716 - lr: 0.0010\n",
      "Epoch 180/200\n",
      "28/28 [==============================] - 40s 1s/step - loss: 1.0142 - accuracy: 0.9460 - top-5-accuracy: 0.9986 - val_loss: 1.3686 - val_accuracy: 0.8466 - val_top-5-accuracy: 0.9682 - lr: 0.0010\n",
      "Epoch 181/200\n",
      "28/28 [==============================] - 39s 1s/step - loss: 1.0056 - accuracy: 0.9551 - top-5-accuracy: 0.9991 - val_loss: 1.3636 - val_accuracy: 0.8466 - val_top-5-accuracy: 0.9659 - lr: 0.0010\n",
      "Epoch 182/200\n",
      "28/28 [==============================] - 40s 1s/step - loss: 1.0233 - accuracy: 0.9403 - top-5-accuracy: 0.9991 - val_loss: 1.3803 - val_accuracy: 0.8455 - val_top-5-accuracy: 0.9670 - lr: 0.0010\n",
      "Epoch 183/200\n",
      "28/28 [==============================] - 40s 1s/step - loss: 1.0282 - accuracy: 0.9403 - top-5-accuracy: 0.9980 - val_loss: 1.3853 - val_accuracy: 0.8375 - val_top-5-accuracy: 0.9705 - lr: 0.0010\n",
      "Epoch 184/200\n",
      "28/28 [==============================] - 39s 1s/step - loss: 1.0250 - accuracy: 0.9383 - top-5-accuracy: 0.9994 - val_loss: 1.3809 - val_accuracy: 0.8409 - val_top-5-accuracy: 0.9716 - lr: 0.0010\n",
      "Epoch 185/200\n",
      "28/28 [==============================] - 40s 1s/step - loss: 1.0447 - accuracy: 0.9369 - top-5-accuracy: 0.9980 - val_loss: 1.4426 - val_accuracy: 0.8136 - val_top-5-accuracy: 0.9625 - lr: 0.0010\n",
      "Epoch 186/200\n",
      "28/28 [==============================] - 40s 1s/step - loss: 1.0344 - accuracy: 0.9349 - top-5-accuracy: 0.9977 - val_loss: 1.4147 - val_accuracy: 0.8227 - val_top-5-accuracy: 0.9625 - lr: 0.0010\n",
      "Epoch 187/200\n",
      "28/28 [==============================] - 40s 1s/step - loss: 1.0123 - accuracy: 0.9500 - top-5-accuracy: 0.9994 - val_loss: 1.4136 - val_accuracy: 0.8295 - val_top-5-accuracy: 0.9648 - lr: 0.0010\n",
      "Epoch 188/200\n",
      "28/28 [==============================] - 40s 1s/step - loss: 1.0273 - accuracy: 0.9428 - top-5-accuracy: 0.9980 - val_loss: 1.4016 - val_accuracy: 0.8375 - val_top-5-accuracy: 0.9705 - lr: 0.0010\n",
      "Epoch 189/200\n",
      "28/28 [==============================] - 40s 1s/step - loss: 1.0062 - accuracy: 0.9508 - top-5-accuracy: 0.9994 - val_loss: 1.3635 - val_accuracy: 0.8409 - val_top-5-accuracy: 0.9716 - lr: 0.0010\n",
      "Epoch 190/200\n",
      "28/28 [==============================] - 40s 1s/step - loss: 0.9959 - accuracy: 0.9571 - top-5-accuracy: 0.9991 - val_loss: 1.3796 - val_accuracy: 0.8364 - val_top-5-accuracy: 0.9625 - lr: 0.0010\n",
      "Epoch 191/200\n",
      "28/28 [==============================] - 39s 1s/step - loss: 0.9990 - accuracy: 0.9502 - top-5-accuracy: 0.9989 - val_loss: 1.3875 - val_accuracy: 0.8273 - val_top-5-accuracy: 0.9693 - lr: 0.0010\n",
      "Epoch 192/200\n",
      "28/28 [==============================] - 40s 1s/step - loss: 1.0083 - accuracy: 0.9454 - top-5-accuracy: 0.9994 - val_loss: 1.3788 - val_accuracy: 0.8409 - val_top-5-accuracy: 0.9705 - lr: 0.0010\n",
      "Epoch 193/200\n",
      "28/28 [==============================] - 40s 1s/step - loss: 1.0097 - accuracy: 0.9480 - top-5-accuracy: 0.9989 - val_loss: 1.3655 - val_accuracy: 0.8489 - val_top-5-accuracy: 0.9670 - lr: 0.0010\n",
      "Epoch 194/200\n",
      "28/28 [==============================] - 40s 1s/step - loss: 1.0152 - accuracy: 0.9468 - top-5-accuracy: 0.9980 - val_loss: 1.3849 - val_accuracy: 0.8455 - val_top-5-accuracy: 0.9614 - lr: 0.0010\n",
      "Epoch 195/200\n",
      "28/28 [==============================] - 40s 1s/step - loss: 1.0080 - accuracy: 0.9531 - top-5-accuracy: 0.9983 - val_loss: 1.4033 - val_accuracy: 0.8261 - val_top-5-accuracy: 0.9659 - lr: 0.0010\n",
      "Epoch 196/200\n",
      "28/28 [==============================] - 40s 1s/step - loss: 0.9972 - accuracy: 0.9531 - top-5-accuracy: 0.9986 - val_loss: 1.4027 - val_accuracy: 0.8341 - val_top-5-accuracy: 0.9636 - lr: 0.0010\n",
      "Epoch 197/200\n",
      "28/28 [==============================] - 40s 1s/step - loss: 1.0147 - accuracy: 0.9431 - top-5-accuracy: 0.9989 - val_loss: 1.3916 - val_accuracy: 0.8341 - val_top-5-accuracy: 0.9636 - lr: 0.0010\n",
      "Epoch 198/200\n",
      "28/28 [==============================] - 40s 1s/step - loss: 1.0028 - accuracy: 0.9491 - top-5-accuracy: 0.9994 - val_loss: 1.3697 - val_accuracy: 0.8318 - val_top-5-accuracy: 0.9705 - lr: 0.0010\n",
      "Epoch 199/200\n",
      "28/28 [==============================] - 40s 1s/step - loss: 0.9842 - accuracy: 0.9574 - top-5-accuracy: 0.9986 - val_loss: 1.3517 - val_accuracy: 0.8500 - val_top-5-accuracy: 0.9682 - lr: 0.0010\n",
      "Epoch 200/200\n",
      "28/28 [==============================] - 40s 1s/step - loss: 0.9884 - accuracy: 0.9588 - top-5-accuracy: 0.9989 - val_loss: 1.3894 - val_accuracy: 0.8330 - val_top-5-accuracy: 0.9614 - lr: 0.0010\n"
     ]
    },
    {
     "name": "stderr",
     "output_type": "stream",
     "text": [
      "2023-01-09 15:58:14.527165: W tensorflow/core/framework/cpu_allocator_impl.cc:82] Allocation of 534380544 exceeds 10% of free system memory.\n"
     ]
    },
    {
     "name": "stdout",
     "output_type": "stream",
     "text": [
      "22/22 [==============================] - 8s 354ms/step - loss: 1.5915 - accuracy: 0.7675 - top-5-accuracy: 0.9500\n",
      "Test accuracy: 76.75%\n",
      "Test top 5 accuracy: 95.0%\n"
     ]
    }
   ],
   "source": [
    "total_steps = int((len(x_train) / batch_size ) * num_epochs )\n",
    "warmup_epoch_percentage = 0.10\n",
    "warmup_steps = int(total_steps * warmup_epoch_percentage)\n",
    "\n",
    "\n",
    "scheduled_lrs = WarmUpCosine(\n",
    "        learning_rate_base= learning_rate ,\n",
    "        total_steps=total_steps,\n",
    "        warmup_learning_rate=0.001 ,\n",
    "        warmup_steps=warmup_steps,\n",
    ")\n",
    "\n",
    "\n",
    "\n",
    "# define callbacks for learning rate schedular and weight saving\n",
    "checkpoint_filepath = \"eanet_classification.h5\"\n",
    "callbacks = [\n",
    "        tf.keras.callbacks.LearningRateScheduler( scheduled_lrs ) ,\n",
    "        tf.keras.callbacks.ModelCheckpoint(\n",
    "                                        filepath=checkpoint_filepath,\n",
    "                                        save_weights_only=True,\n",
    "                                        monitor='val_accuracy',\n",
    "                                        mode='max',\n",
    "                                        save_best_only=True)\n",
    "]\n",
    "\n",
    "\n",
    "\n",
    "model = get_model(attention_type=\"external_attention\")\n",
    "\n",
    "model.compile(\n",
    "    loss=keras.losses.CategoricalCrossentropy(label_smoothing=label_smoothing),\n",
    "    optimizer=tfa.optimizers.AdamW(\n",
    "        learning_rate=learning_rate, weight_decay=weight_decay\n",
    "    ),\n",
    "    metrics=[\n",
    "        keras.metrics.CategoricalAccuracy(name=\"accuracy\"),\n",
    "        keras.metrics.TopKCategoricalAccuracy(5, name=\"top-5-accuracy\"),\n",
    "    ]\n",
    ")\n",
    "\n",
    "\n",
    "history = model.fit(\n",
    "    x_train,\n",
    "    y_train,\n",
    "    batch_size=batch_size,\n",
    "    epochs=num_epochs,\n",
    "    validation_split=validation_split,\n",
    "    callbacks=  callbacks\n",
    ")\n",
    "\n",
    "_, accuracy, top_5_accuracy = model.evaluate(x_test, y_test, batch_size= batch_size )\n",
    "print(f\"Test accuracy: {round(accuracy * 100, 2)}%\")\n",
    "print(f\"Test top 5 accuracy: {round(top_5_accuracy * 100, 2)}%\")"
   ]
  },
  {
   "cell_type": "markdown",
   "metadata": {},
   "source": [
    "# print prediction stats"
   ]
  },
  {
   "cell_type": "code",
   "execution_count": 21,
   "metadata": {},
   "outputs": [],
   "source": [
    "import matplotlib.pyplot as plt\n",
    "from matplotlib.pyplot import imshow\n",
    "import os\n",
    "import seaborn as sns\n",
    "#sns.set_style('darkgrid')\n",
    "from PIL import Image\n",
    "from sklearn.metrics import confusion_matrix , classification_report\n",
    "\n",
    "def print_info( preds , targets  ):\n",
    "    class_dict= target_dict \n",
    "    labels= targets\n",
    "\n",
    "    true_class=[]\n",
    "    pred_class=[]\n",
    "    prob_list=[]\n",
    "    new_dict={}\n",
    "\n",
    "    y_pred=[]\n",
    "    for key,value in class_dict.items():\n",
    "        new_dict[value]=key             # dictionary {integer of class number: string of class name}\n",
    "    # store new_dict as a text fine in the save_dir\n",
    "    classes=list(new_dict.values())     # list of string of class names\n",
    "    \n",
    "    df_list = []\n",
    "    \n",
    "    for i, p in enumerate(preds):\n",
    "        pred_index=np.argmax(p)        \n",
    "        true_index= labels[i][0]  # labels are integer values\n",
    "        if pred_index != true_index: # a misclassification has occurred\n",
    "\n",
    "            true_class.append(new_dict[true_index])\n",
    "            pred_class.append(new_dict[pred_index])\n",
    "            prob_list.append(p[pred_index])\n",
    "            \n",
    "        y_pred.append(pred_index)    \n",
    "        \n",
    "        i_sample ={\n",
    "            \"prediction\": new_dict[ pred_index ] ,\n",
    "            \"gt\" : new_dict[ true_index ]\n",
    "        }\n",
    "        \n",
    "        df_list.append( i_sample )\n",
    "\n",
    "    if len(classes)<= 80:\n",
    "        # create a confusion matrix and a test report        \n",
    "        y_true= np.array(labels)        \n",
    "        y_pred=np.array(y_pred)        \n",
    "        cm = confusion_matrix(y_true, y_pred )\n",
    "        clr = classification_report(y_true, y_pred, target_names=classes , zero_division=0)\n",
    "        length=len(classes)\n",
    "        if length<8:\n",
    "            fig_width=8\n",
    "            fig_height=8\n",
    "        else:\n",
    "            fig_width= int(length * .5)\n",
    "            fig_height= int(length * .5)\n",
    "        plt.figure(figsize=(fig_width, fig_height))\n",
    "        sns.heatmap(cm, annot=True, vmin=0, fmt='g', cmap='Blues', cbar=False)       \n",
    "        plt.xticks(np.arange(length)+.5, classes, rotation= 90)\n",
    "        plt.yticks(np.arange(length)+.5, classes, rotation=0)\n",
    "        plt.xlabel(\"Predicted\")\n",
    "        plt.ylabel(\"Actual\")\n",
    "        plt.title(\"Confusion Matrix\")\n",
    "        plt.show()    \n",
    "        print(\"Classification Report:\\n----------------------\\n\", clr)\n",
    "        \n",
    "    # generate the prediction dataframe\n",
    "    df_ = pd.DataFrame( df_list )\n",
    "    df_.to_csv(\"predictions.csv\")"
   ]
  },
  {
   "cell_type": "markdown",
   "metadata": {},
   "source": [
    "> geenerate predictions and stats"
   ]
  },
  {
   "cell_type": "code",
   "execution_count": 29,
   "metadata": {
    "tags": []
   },
   "outputs": [
    {
     "data": {
      "image/png": "[encoded data removed]",
      "text/plain": [
       "<Figure size 2088x2088 with 1 Axes>"
      ]
     },
     "metadata": {
      "needs_background": "light"
     },
     "output_type": "display_data"
    },
    {
     "name": "stdout",
     "output_type": "stream",
     "text": [
      "Classification Report:\n",
      "----------------------\n",
      "               precision    recall  f1-score   support\n",
      "\n",
      "           A       0.79      0.91      0.85        97\n",
      "          BA       0.80      0.94      0.86        98\n",
      "          CA       0.84      0.89      0.86        36\n",
      "       Caruk       0.73      0.50      0.59        16\n",
      "          DA       0.83      0.85      0.84        98\n",
      "         DYA       0.00      0.00      0.00         3\n",
      "           E       0.50      0.38      0.43         8\n",
      "          GA       0.81      0.90      0.85        88\n",
      "          HA       0.88      0.78      0.83        73\n",
      "         HYA       0.60      0.50      0.55         6\n",
      "           I       0.82      0.88      0.85        52\n",
      "          JA       0.72      0.81      0.76        58\n",
      "           K       0.62      0.74      0.68        31\n",
      "          KA       0.90      0.83      0.86        98\n",
      "        KOMA       0.87      0.81      0.84        98\n",
      "         KSA       0.25      0.14      0.18         7\n",
      "          LA       0.89      0.84      0.86        98\n",
      "          LE       0.75      0.69      0.72        13\n",
      "          MA       0.84      0.89      0.87        98\n",
      "           N       0.67      0.81      0.73        32\n",
      "         NDA       0.50      1.00      0.67        13\n",
      "         NGA       0.74      0.90      0.81        60\n",
      "         NYA       0.75      0.82      0.78        33\n",
      "        NYCA       0.80      0.57      0.67         7\n",
      "        NYJA       0.75      1.00      0.86         3\n",
      "           O       0.00      0.00      0.00         4\n",
      "          PA       0.68      0.89      0.77        98\n",
      "      PAMAEH       0.96      0.77      0.86        97\n",
      "     PAMEPET       0.00      0.00      0.00        18\n",
      "   PAMINGKAL       0.00      0.00      0.00         3\n",
      "    PANELENG       0.63      0.71      0.67        97\n",
      "  PANEULEUNG       0.56      0.66      0.61        97\n",
      "    PANGHULU       0.42      0.08      0.14        97\n",
      "   PANGLAYAR       1.00      0.83      0.91        58\n",
      "   PANGWISAD       0.54      0.86      0.67        95\n",
      "    PANOLONG       0.92      0.79      0.85        70\n",
      "    PANYAKRA       0.00      0.00      0.00         3\n",
      "    PANYECEK       0.71      0.86      0.78        97\n",
      "     PANYUKU       0.75      0.74      0.75        97\n",
      "         PRA       0.75      0.83      0.79        18\n",
      "          RA       0.87      0.84      0.85        98\n",
      "          RE       0.75      0.69      0.72        13\n",
      "          RO       1.00      0.25      0.40         4\n",
      "         RWA       1.00      0.25      0.40         4\n",
      "         RYA       0.33      0.33      0.33         3\n",
      "          SA       0.97      0.62      0.76        98\n",
      "         SYA       0.67      0.50      0.57         4\n",
      "          TA       0.89      0.65      0.75        98\n",
      "         TWA       0.50      0.20      0.29         5\n",
      "         TYA       0.00      0.00      0.00         3\n",
      "           U       0.88      0.91      0.89        46\n",
      "          WA       0.86      0.86      0.86        64\n",
      "          YA       0.64      0.84      0.73        44\n",
      "          eu       0.58      0.93      0.72        15\n",
      "         kka       1.00      0.75      0.86         4\n",
      "         mba       0.75      0.68      0.71        22\n",
      "         mpa       0.75      0.92      0.83        13\n",
      "         nma       0.00      0.00      0.00         4\n",
      " pasangan-wa       1.00      0.33      0.50         3\n",
      "\n",
      "    accuracy                           0.77      2718\n",
      "   macro avg       0.66      0.63      0.62      2718\n",
      "weighted avg       0.77      0.77      0.76      2718\n",
      "\n"
     ]
    }
   ],
   "source": [
    "preds= model.predict( x_test ) \n",
    "print_info( preds , np.argmax(y_test, axis=-1).reshape(-1,1) ) "
   ]
  },
  {
   "cell_type": "code",
   "execution_count": null,
   "metadata": {},
   "outputs": [],
   "source": []
  }
 ],
 "metadata": {
  "colab": {
   "collapsed_sections": [],
   "name": "vit_small_ds",
   "provenance": [],
   "toc_visible": true
  },
  "kernelspec": {
   "display_name": "default:Python",
   "language": "python",
   "name": "conda-env-default-py"
  },
  "language_info": {
   "codemirror_mode": {
    "name": "ipython",
    "version": 3
   },
   "file_extension": ".py",
   "mimetype": "text/x-python",
   "name": "python",
   "nbconvert_exporter": "python",
   "pygments_lexer": "ipython3",
   "version": "3.9.13"
  }
 },
 "nbformat": 4,
 "nbformat_minor": 4
}
