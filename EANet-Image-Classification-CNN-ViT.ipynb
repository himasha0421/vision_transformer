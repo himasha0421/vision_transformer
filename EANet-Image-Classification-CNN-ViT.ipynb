{
 "cells": [
  {
   "cell_type": "markdown",
   "metadata": {
    "id": "Iq9N9B0v-9cP"
   },
   "source": [
    "# Train a Vision Transformer on small datasets\n",
    "\n",
    "**Author:** [Aritra Roy Gosthipaty](https://twitter.com/ariG23498)<br>\n",
    "**Date created:** 2022/01/07<br>\n",
    "**Last modified:** 2022/01/10<br>\n",
    "**Description:** Training a ViT from scratch on smaller datasets with shifted patch tokenization and locality self-attention."
   ]
  },
  {
   "cell_type": "code",
   "execution_count": 1,
   "metadata": {},
   "outputs": [],
   "source": [
    "!pip install -qq -U tensorflow-addons\n",
    "!pip install matplotlib\n",
    "!pip install tensorflow==2.8\n",
    "!pip install keras==2.8\n",
    "!pip install seaborn"
   ]
  },
  {
   "cell_type": "markdown",
   "metadata": {
    "id": "s8M_Jpgv-9cU"
   },
   "source": [
    "## Setup"
   ]
  },
  {
   "cell_type": "code",
   "execution_count": 1,
   "metadata": {
    "id": "mka1ZJT2-9cU"
   },
   "outputs": [
    {
     "name": "stderr",
     "output_type": "stream",
     "text": [
      "2023-01-09 18:45:20.405607: W tensorflow/stream_executor/platform/default/dso_loader.cc:64] Could not load dynamic library 'libcudart.so.11.0'; dlerror: libcudart.so.11.0: cannot open shared object file: No such file or directory\n",
      "2023-01-09 18:45:20.405644: I tensorflow/stream_executor/cuda/cudart_stub.cc:29] Ignore above cudart dlerror if you do not have a GPU set up on your machine.\n"
     ]
    }
   ],
   "source": [
    "import math\n",
    "import numpy as np\n",
    "import tensorflow as tf\n",
    "from tensorflow import keras\n",
    "import tensorflow_addons as tfa\n",
    "import matplotlib.pyplot as plt\n",
    "from tensorflow.keras import layers\n",
    "\n",
    "# Setting seed for reproducibiltiy\n",
    "SEED = 42\n",
    "keras.utils.set_random_seed(SEED)"
   ]
  },
  {
   "cell_type": "markdown",
   "metadata": {
    "id": "VzTYV70y-9cV"
   },
   "source": [
    "## Prepare the data"
   ]
  },
  {
   "cell_type": "code",
   "execution_count": 2,
   "metadata": {},
   "outputs": [],
   "source": [
    "base_train_dir = \"dataset/Text-Classification/train_image\"\n",
    "base_test_dir = \"dataset/Text-Classification/test_image\"\n",
    "train_label_path , test_label_path =  \"dataset/Text-Classification/gt_train.txt\" , \"dataset/Text-Classification/gt_test.txt\""
   ]
  },
  {
   "cell_type": "code",
   "execution_count": 3,
   "metadata": {},
   "outputs": [],
   "source": [
    "import pandas as pd\n",
    "\n",
    "df_train = pd.read_csv( train_label_path , sep=';' , header=None , names = ['img_path','text'] )\n",
    "df_train = df_train.dropna()\n",
    "df_train = df_train.reset_index()\n",
    "\n",
    "df_test = pd.read_csv( test_label_path , sep=';' , header=None , names = ['img_path','text'] )\n",
    "df_test = df_test.dropna()\n",
    "df_test = df_test.reset_index()"
   ]
  },
  {
   "cell_type": "code",
   "execution_count": 4,
   "metadata": {},
   "outputs": [
    {
     "data": {
      "text/html": [
       "<div>\n",
       "<style scoped>\n",
       "    .dataframe tbody tr th:only-of-type {\n",
       "        vertical-align: middle;\n",
       "    }\n",
       "\n",
       "    .dataframe tbody tr th {\n",
       "        vertical-align: top;\n",
       "    }\n",
       "\n",
       "    .dataframe thead th {\n",
       "        text-align: right;\n",
       "    }\n",
       "</style>\n",
       "<table border=\"1\" class=\"dataframe\">\n",
       "  <thead>\n",
       "    <tr style=\"text-align: right;\">\n",
       "      <th></th>\n",
       "      <th>index</th>\n",
       "      <th>img_path</th>\n",
       "      <th>text</th>\n",
       "    </tr>\n",
       "  </thead>\n",
       "  <tbody>\n",
       "    <tr>\n",
       "      <th>0</th>\n",
       "      <td>0</td>\n",
       "      <td>A_1.png</td>\n",
       "      <td>A</td>\n",
       "    </tr>\n",
       "    <tr>\n",
       "      <th>1</th>\n",
       "      <td>1</td>\n",
       "      <td>A_10.png</td>\n",
       "      <td>A</td>\n",
       "    </tr>\n",
       "    <tr>\n",
       "      <th>2</th>\n",
       "      <td>2</td>\n",
       "      <td>A_100.png</td>\n",
       "      <td>A</td>\n",
       "    </tr>\n",
       "    <tr>\n",
       "      <th>3</th>\n",
       "      <td>3</td>\n",
       "      <td>A_101.png</td>\n",
       "      <td>A</td>\n",
       "    </tr>\n",
       "    <tr>\n",
       "      <th>4</th>\n",
       "      <td>4</td>\n",
       "      <td>A_102.png</td>\n",
       "      <td>A</td>\n",
       "    </tr>\n",
       "  </tbody>\n",
       "</table>\n",
       "</div>"
      ],
      "text/plain": [
       "   index   img_path text\n",
       "0      0    A_1.png    A\n",
       "1      1   A_10.png    A\n",
       "2      2  A_100.png    A\n",
       "3      3  A_101.png    A\n",
       "4      4  A_102.png    A"
      ]
     },
     "execution_count": 4,
     "metadata": {},
     "output_type": "execute_result"
    }
   ],
   "source": [
    "df_train.head()"
   ]
  },
  {
   "cell_type": "markdown",
   "metadata": {},
   "source": [
    "> dataframe preprocessing"
   ]
  },
  {
   "cell_type": "code",
   "execution_count": 5,
   "metadata": {},
   "outputs": [],
   "source": [
    "from sklearn import preprocessing\n",
    "import os\n",
    "\n",
    "# label encoder\n",
    "le = preprocessing.LabelEncoder()\n",
    "\n",
    "# train label encoder\n",
    "le.fit_transform( df_train.text )\n",
    "# define the target dict\n",
    "target_dict = { i_key : idx  for idx , i_key in enumerate(  le.classes_ ) }\n",
    "\n",
    "def to_encode( label ):\n",
    "    label_txt = str( label )\n",
    "    return target_dict[ label_txt ]\n",
    "\n",
    "def train_joinpath( path ):\n",
    "  img_path = os.path.join( base_train_dir , path )\n",
    "  return img_path\n",
    "\n",
    "def test_joinpath( path ):\n",
    "  img_path = os.path.join( base_test_dir , path )\n",
    "  return img_path\n",
    "\n",
    "df_train['label'] = df_train.text.apply( to_encode )\n",
    "df_test['label'] = df_test.text.apply( to_encode )\n",
    "df_train['img_path'] = df_train.img_path.apply( train_joinpath )\n",
    "df_test['img_path'] = df_test.img_path.apply( test_joinpath )\n",
    "\n",
    "df_train = df_train.sample(frac=1, random_state=42).reset_index(drop=True)\n",
    "df_test = df_test.sample(frac=1, random_state=42).reset_index(drop=True)"
   ]
  },
  {
   "cell_type": "markdown",
   "metadata": {},
   "source": [
    "> save the target label mapping"
   ]
  },
  {
   "cell_type": "code",
   "execution_count": 6,
   "metadata": {},
   "outputs": [
    {
     "data": {
      "text/plain": [
       "['dataset/target_label.dict']"
      ]
     },
     "execution_count": 6,
     "metadata": {},
     "output_type": "execute_result"
    }
   ],
   "source": [
    "import joblib\n",
    "\n",
    "joblib.dump(target_dict , \"dataset/target_label.dict\") "
   ]
  },
  {
   "cell_type": "code",
   "execution_count": 7,
   "metadata": {
    "tags": []
   },
   "outputs": [
    {
     "name": "stdout",
     "output_type": "stream",
     "text": [
      "Target Label  Classes : ['A' 'BA' 'CA' 'Caruk' 'DA' 'DYA' 'E' 'GA' 'HA' 'HYA' 'I' 'JA' 'K' 'KA'\n",
      " 'KOMA' 'KSA' 'LA' 'LE' 'MA' 'N' 'NDA' 'NGA' 'NYA' 'NYCA' 'NYJA' 'O' 'PA'\n",
      " 'PAMAEH' 'PAMEPET' 'PAMINGKAL' 'PANELENG' 'PANEULEUNG' 'PANGHULU'\n",
      " 'PANGLAYAR' 'PANGWISAD' 'PANOLONG' 'PANYAKRA' 'PANYECEK' 'PANYUKU' 'PRA'\n",
      " 'RA' 'RE' 'RO' 'RWA' 'RYA' 'SA' 'SYA' 'TA' 'TWA' 'TYA' 'U' 'WA' 'YA' 'eu'\n",
      " 'kka' 'mba' 'mpa' 'nma' 'pasangan-wa']\n"
     ]
    }
   ],
   "source": [
    "classes = le.classes_\n",
    "print(\"Target Label  Classes :\", classes)"
   ]
  },
  {
   "cell_type": "markdown",
   "metadata": {},
   "source": [
    "> dataframe sample"
   ]
  },
  {
   "cell_type": "code",
   "execution_count": 8,
   "metadata": {},
   "outputs": [
    {
     "data": {
      "text/html": [
       "<div>\n",
       "<style scoped>\n",
       "    .dataframe tbody tr th:only-of-type {\n",
       "        vertical-align: middle;\n",
       "    }\n",
       "\n",
       "    .dataframe tbody tr th {\n",
       "        vertical-align: top;\n",
       "    }\n",
       "\n",
       "    .dataframe thead th {\n",
       "        text-align: right;\n",
       "    }\n",
       "</style>\n",
       "<table border=\"1\" class=\"dataframe\">\n",
       "  <thead>\n",
       "    <tr style=\"text-align: right;\">\n",
       "      <th></th>\n",
       "      <th>index</th>\n",
       "      <th>img_path</th>\n",
       "      <th>text</th>\n",
       "      <th>label</th>\n",
       "    </tr>\n",
       "  </thead>\n",
       "  <tbody>\n",
       "    <tr>\n",
       "      <th>0</th>\n",
       "      <td>3228</td>\n",
       "      <td>dataset/Text-Classification/train_image/PANYEC...</td>\n",
       "      <td>PANYECEK</td>\n",
       "      <td>37</td>\n",
       "    </tr>\n",
       "    <tr>\n",
       "      <th>1</th>\n",
       "      <td>2816</td>\n",
       "      <td>dataset/Text-Classification/train_image/PANGLA...</td>\n",
       "      <td>PANGLAYAR</td>\n",
       "      <td>33</td>\n",
       "    </tr>\n",
       "    <tr>\n",
       "      <th>2</th>\n",
       "      <td>1532</td>\n",
       "      <td>dataset/Text-Classification/train_image/LA_76.png</td>\n",
       "      <td>LA</td>\n",
       "      <td>16</td>\n",
       "    </tr>\n",
       "    <tr>\n",
       "      <th>3</th>\n",
       "      <td>414</td>\n",
       "      <td>dataset/Text-Classification/train_image/DA_114...</td>\n",
       "      <td>DA</td>\n",
       "      <td>4</td>\n",
       "    </tr>\n",
       "    <tr>\n",
       "      <th>4</th>\n",
       "      <td>4317</td>\n",
       "      <td>dataset/Text-Classification/train_image/WA_3.png</td>\n",
       "      <td>WA</td>\n",
       "      <td>51</td>\n",
       "    </tr>\n",
       "  </tbody>\n",
       "</table>\n",
       "</div>"
      ],
      "text/plain": [
       "   index                                           img_path       text  label\n",
       "0   3228  dataset/Text-Classification/train_image/PANYEC...   PANYECEK     37\n",
       "1   2816  dataset/Text-Classification/train_image/PANGLA...  PANGLAYAR     33\n",
       "2   1532  dataset/Text-Classification/train_image/LA_76.png         LA     16\n",
       "3    414  dataset/Text-Classification/train_image/DA_114...         DA      4\n",
       "4   4317   dataset/Text-Classification/train_image/WA_3.png         WA     51"
      ]
     },
     "execution_count": 8,
     "metadata": {},
     "output_type": "execute_result"
    }
   ],
   "source": [
    "df_train.head()"
   ]
  },
  {
   "cell_type": "markdown",
   "metadata": {},
   "source": [
    "> sample visualization"
   ]
  },
  {
   "cell_type": "code",
   "execution_count": 13,
   "metadata": {},
   "outputs": [
    {
     "name": "stderr",
     "output_type": "stream",
     "text": [
      "/tmp/ipykernel_5589/4183374882.py:6: DeprecationWarning: BICUBIC is deprecated and will be removed in Pillow 10 (2023-07-01). Use Resampling.BICUBIC instead.\n",
      "  img_rgb = np.array(Image.open( df_train.iloc[100].img_path ).resize( (72,72) , PIL.Image.BICUBIC  ))\n"
     ]
    },
    {
     "data": {
      "text/plain": [
       "<matplotlib.image.AxesImage at 0x7f99505fd1c0>"
      ]
     },
     "execution_count": 13,
     "metadata": {},
     "output_type": "execute_result"
    },
    {
     "data": {
      "image/png": "[encoded data removed]",
      "text/plain": [
       "<Figure size 432x288 with 1 Axes>"
      ]
     },
     "metadata": {
      "needs_background": "light"
     },
     "output_type": "display_data"
    }
   ],
   "source": [
    "from PIL import Image\n",
    "import numpy as np\n",
    "import matplotlib.pyplot as plt\n",
    "import PIL\n",
    "\n",
    "img_rgb = np.array(Image.open( df_train.iloc[100].img_path ).resize( (72,72) , PIL.Image.BICUBIC  ))\n",
    "plt.imshow( img_rgb )"
   ]
  },
  {
   "cell_type": "markdown",
   "metadata": {},
   "source": [
    "## Prepare Dataset"
   ]
  },
  {
   "cell_type": "markdown",
   "metadata": {},
   "source": [
    "### define the feature extrctor efficeint net"
   ]
  },
  {
   "cell_type": "code",
   "execution_count": 9,
   "metadata": {},
   "outputs": [],
   "source": [
    "# define dataset\n",
    "\n",
    "from tensorflow.keras.applications import EfficientNetB0\n",
    "\n",
    "def build_EfficientNet():\n",
    "    # input layer\n",
    "    inputs = layers.Input(shape= (156,156,3) )\n",
    "    # base model with efficient net imagenet pretrained weights\n",
    "    model = EfficientNetB0(include_top=False , input_tensor= inputs , weights= 'imagenet' , drop_connect_rate=0.4 )\n",
    "\n",
    "    # Freeze the pretrained weights\n",
    "    model.trainable = True\n",
    "    \n",
    "    # define the output\n",
    "    outputs = model.layers[16].output\n",
    "\n",
    "    # Compile\n",
    "    model = tf.keras.Model(inputs, outputs, name=\"EfficientNet\")\n",
    "\n",
    "    return model"
   ]
  },
  {
   "cell_type": "code",
   "execution_count": 10,
   "metadata": {},
   "outputs": [
    {
     "name": "stderr",
     "output_type": "stream",
     "text": [
      "2023-01-09 18:45:34.420349: W tensorflow/stream_executor/platform/default/dso_loader.cc:64] Could not load dynamic library 'libcuda.so.1'; dlerror: libcuda.so.1: cannot open shared object file: No such file or directory\n",
      "2023-01-09 18:45:34.420386: W tensorflow/stream_executor/cuda/cuda_driver.cc:269] failed call to cuInit: UNKNOWN ERROR (303)\n",
      "2023-01-09 18:45:34.420412: I tensorflow/stream_executor/cuda/cuda_diagnostics.cc:156] kernel driver does not appear to be running on this host (default): /proc/driver/nvidia/version does not exist\n",
      "2023-01-09 18:45:34.420598: I tensorflow/core/platform/cpu_feature_guard.cc:151] This TensorFlow binary is optimized with oneAPI Deep Neural Network Library (oneDNN) to use the following CPU instructions in performance-critical operations:  AVX2 AVX512F FMA\n",
      "To enable them in other operations, rebuild TensorFlow with the appropriate compiler flags.\n"
     ]
    }
   ],
   "source": [
    "base_efficient = build_EfficientNet()"
   ]
  },
  {
   "cell_type": "code",
   "execution_count": 12,
   "metadata": {
    "tags": []
   },
   "outputs": [
    {
     "name": "stdout",
     "output_type": "stream",
     "text": [
      "Model: \"EfficientNet\"\n",
      "__________________________________________________________________________________________________\n",
      " Layer (type)                   Output Shape         Param #     Connected to                     \n",
      "==================================================================================================\n",
      " input_1 (InputLayer)           [(None, 156, 156, 3  0           []                               \n",
      "                                )]                                                                \n",
      "                                                                                                  \n",
      " rescaling (Rescaling)          (None, 156, 156, 3)  0           ['input_1[0][0]']                \n",
      "                                                                                                  \n",
      " normalization (Normalization)  (None, 156, 156, 3)  7           ['rescaling[0][0]']              \n",
      "                                                                                                  \n",
      " stem_conv_pad (ZeroPadding2D)  (None, 157, 157, 3)  0           ['normalization[0][0]']          \n",
      "                                                                                                  \n",
      " stem_conv (Conv2D)             (None, 78, 78, 32)   864         ['stem_conv_pad[0][0]']          \n",
      "                                                                                                  \n",
      " stem_bn (BatchNormalization)   (None, 78, 78, 32)   128         ['stem_conv[0][0]']              \n",
      "                                                                                                  \n",
      " stem_activation (Activation)   (None, 78, 78, 32)   0           ['stem_bn[0][0]']                \n",
      "                                                                                                  \n",
      " block1a_dwconv (DepthwiseConv2  (None, 78, 78, 32)  288         ['stem_activation[0][0]']        \n",
      " D)                                                                                               \n",
      "                                                                                                  \n",
      " block1a_bn (BatchNormalization  (None, 78, 78, 32)  128         ['block1a_dwconv[0][0]']         \n",
      " )                                                                                                \n",
      "                                                                                                  \n",
      " block1a_activation (Activation  (None, 78, 78, 32)  0           ['block1a_bn[0][0]']             \n",
      " )                                                                                                \n",
      "                                                                                                  \n",
      " block1a_se_squeeze (GlobalAver  (None, 32)          0           ['block1a_activation[0][0]']     \n",
      " agePooling2D)                                                                                    \n",
      "                                                                                                  \n",
      " block1a_se_reshape (Reshape)   (None, 1, 1, 32)     0           ['block1a_se_squeeze[0][0]']     \n",
      "                                                                                                  \n",
      " block1a_se_reduce (Conv2D)     (None, 1, 1, 8)      264         ['block1a_se_reshape[0][0]']     \n",
      "                                                                                                  \n",
      " block1a_se_expand (Conv2D)     (None, 1, 1, 32)     288         ['block1a_se_reduce[0][0]']      \n",
      "                                                                                                  \n",
      " block1a_se_excite (Multiply)   (None, 78, 78, 32)   0           ['block1a_activation[0][0]',     \n",
      "                                                                  'block1a_se_expand[0][0]']      \n",
      "                                                                                                  \n",
      " block1a_project_conv (Conv2D)  (None, 78, 78, 16)   512         ['block1a_se_excite[0][0]']      \n",
      "                                                                                                  \n",
      " block1a_project_bn (BatchNorma  (None, 78, 78, 16)  64          ['block1a_project_conv[0][0]']   \n",
      " lization)                                                                                        \n",
      "                                                                                                  \n",
      "==================================================================================================\n",
      "Total params: 2,543\n",
      "Trainable params: 0\n",
      "Non-trainable params: 2,543\n",
      "__________________________________________________________________________________________________\n"
     ]
    }
   ],
   "source": [
    "base_efficient.summary()"
   ]
  },
  {
   "cell_type": "code",
   "execution_count": 11,
   "metadata": {},
   "outputs": [],
   "source": [
    "def prepare_dateset( df ):\n",
    "    img_set , target_set = [] ,[]\n",
    "    for i_img_path , i_label in zip( df.img_path.values , df.label.values ):\n",
    "        \n",
    "        # read the rgb image\n",
    "        img_rgb = np.array(Image.open( i_img_path ).resize( ( 156 , 156 ) , PIL.Image.BICUBIC  )  )\n",
    "        # add the image into the placeholder\n",
    "        img_set.append(  img_rgb )\n",
    "        target_set.append( tf.keras.utils.to_categorical( i_label , num_classes = len(classes ) ) )\n",
    "    \n",
    "    return np.array( img_set  ).astype(np.float32) , np.array( target_set ) "
   ]
  },
  {
   "cell_type": "code",
   "execution_count": 14,
   "metadata": {},
   "outputs": [
    {
     "name": "stderr",
     "output_type": "stream",
     "text": [
      "/tmp/ipykernel_5589/1692926153.py:6: DeprecationWarning: BICUBIC is deprecated and will be removed in Pillow 10 (2023-07-01). Use Resampling.BICUBIC instead.\n",
      "  img_rgb = np.array(Image.open( i_img_path ).resize( ( 156 , 156 ) , PIL.Image.BICUBIC  )  )\n"
     ]
    },
    {
     "name": "stdout",
     "output_type": "stream",
     "text": [
      "x_train shape: (4397, 156, 156, 3) - y_train shape: (4397, 59)\n",
      "x_test shape: (2718, 156, 156, 3) - y_test shape: (2718, 59)\n"
     ]
    }
   ],
   "source": [
    "NUM_CLASSES = len( target_dict )\n",
    "\n",
    "(x_train, y_train) = prepare_dateset( df_train )\n",
    "(x_test, y_test) = prepare_dateset( df_test )\n",
    "\n",
    "print(f\"x_train shape: {x_train.shape} - y_train shape: {y_train.shape}\")\n",
    "print(f\"x_test shape: {x_test.shape} - y_test shape: {y_test.shape}\")"
   ]
  },
  {
   "cell_type": "markdown",
   "metadata": {
    "id": "YYbKobS8-9cX"
   },
   "source": [
    "## Configure the hyperparameters\n",
    "\n",
    "The hyperparameters are different from the paper. Feel free to tune\n",
    "the hyperparameters yourself."
   ]
  },
  {
   "cell_type": "code",
   "execution_count": 15,
   "metadata": {
    "id": "kd-hmFgv-9cX"
   },
   "outputs": [
    {
     "name": "stdout",
     "output_type": "stream",
     "text": [
      "Patch size: 16 X 16 = 256 \n",
      "Patches per image: 16\n"
     ]
    }
   ],
   "source": [
    "# AUGMENTATION\n",
    "image_size = 156\n",
    "input_shape = (156,156,3)\n",
    "\n",
    "# hyper parameters\n",
    "weight_decay = 0.0001\n",
    "learning_rate = 0.001\n",
    "label_smoothing = 0.1\n",
    "validation_split = 0.2\n",
    "batch_size = 128\n",
    "num_epochs = 200\n",
    "patch_size = 16  # Size of the patches to be extracted from the input images.\n",
    "feature_shape = 78\n",
    "num_patches = ( feature_shape // patch_size) ** 2  # Number of patch\n",
    "embedding_dim = 64  # Number of hidden units.\n",
    "mlp_dim = 256\n",
    "dim_coefficient = 4\n",
    "num_heads = 8\n",
    "attention_dropout = 0.3\n",
    "projection_dropout = 0.3\n",
    "num_transformer_blocks = 8  # Number of repetitions of the transformer layer\n",
    "\n",
    "print(f\"Patch size: {patch_size} X {patch_size} = {patch_size ** 2} \")\n",
    "print(f\"Patches per image: {num_patches}\")"
   ]
  },
  {
   "cell_type": "markdown",
   "metadata": {
    "id": "ObNr-K10-9cY"
   },
   "source": [
    "## Use data augmentation\n",
    "\n",
    "A snippet from the paper:\n",
    "\n",
    "*\"According to DeiT, various techniques are required to effectively\n",
    "train ViTs. Thus, we applied data augmentations such as CutMix, Mixup,\n",
    "Auto Augment, Repeated Augment to all models.\"*\n",
    "\n",
    "In this example, we will focus solely on the novelty of the approach\n",
    "and not on reproducing the paper results. For this reason, we\n",
    "don't use the mentioned data augmentation schemes. Please feel\n",
    "free to add to or remove from the augmentation pipeline."
   ]
  },
  {
   "cell_type": "code",
   "execution_count": 16,
   "metadata": {
    "id": "mPZ6iD8c-9cY",
    "tags": []
   },
   "outputs": [
    {
     "name": "stderr",
     "output_type": "stream",
     "text": [
      "2023-01-09 18:46:12.378721: W tensorflow/core/framework/cpu_allocator_impl.cc:82] Allocation of 1284064704 exceeds 10% of free system memory.\n"
     ]
    }
   ],
   "source": [
    "data_augmentation = keras.Sequential(\n",
    "    [\n",
    "        layers.Normalization(),\n",
    "        layers.Resizing( image_size , image_size ),\n",
    "        layers.RandomFlip(\"horizontal\"),\n",
    "        layers.RandomRotation(factor=0.02),\n",
    "        layers.RandomZoom(height_factor=0.2, width_factor=0.2),\n",
    "    ],\n",
    "    name=\"data_augmentation\",\n",
    ")\n",
    "# Compute the mean and the variance of the training data for normalization.\n",
    "data_augmentation.layers[0].adapt(x_train)"
   ]
  },
  {
   "cell_type": "markdown",
   "metadata": {
    "id": "2klhcLCv-9cb"
   },
   "source": [
    "## Implement the patch extraction and encoding layer\n",
    "\n",
    "This layer accepts projected patches and then adds positional\n",
    "information to them."
   ]
  },
  {
   "cell_type": "code",
   "execution_count": 17,
   "metadata": {
    "id": "tqtKcoLY-9cb"
   },
   "outputs": [],
   "source": [
    "class PatchExtract(layers.Layer):\n",
    "    def __init__(self, patch_size, **kwargs):\n",
    "        super().__init__(**kwargs)\n",
    "        self.patch_size = patch_size\n",
    "\n",
    "    def call(self, images):\n",
    "        batch_size = tf.shape(images)[0]\n",
    "        \n",
    "        # preprocessed \n",
    "        img_preprocessed =  tf.keras.applications.efficientnet.preprocess_input(\n",
    "                                images , data_format=\"channels_last\"\n",
    "                            )\n",
    "        \n",
    "        # generate the feature output\n",
    "        images =  base_efficient( img_preprocessed )\n",
    "        \n",
    "        patches = tf.image.extract_patches(\n",
    "            images=images,\n",
    "            sizes=(1, self.patch_size, self.patch_size, 1),\n",
    "            strides=(1, self.patch_size, self.patch_size, 1),\n",
    "            rates=(1, 1, 1, 1),\n",
    "            padding=\"VALID\",\n",
    "        )\n",
    "        patch_dim = patches.shape[-1]\n",
    "        patch_num = patches.shape[1]\n",
    "        return tf.reshape(patches, (batch_size, patch_num * patch_num, patch_dim))\n",
    "\n",
    "\n",
    "class PatchEmbedding(layers.Layer):\n",
    "    def __init__(self, num_patch, embed_dim, **kwargs):\n",
    "        super().__init__(**kwargs)\n",
    "        self.num_patch = num_patch\n",
    "        self.proj = layers.Dense(embed_dim)\n",
    "        self.pos_embed = layers.Embedding(input_dim=num_patch, output_dim=embed_dim)\n",
    "\n",
    "    def call(self, patch):\n",
    "        pos = tf.range(start=0, limit=self.num_patch, delta=1)\n",
    "        return self.proj(patch) + self.pos_embed(pos)"
   ]
  },
  {
   "cell_type": "markdown",
   "metadata": {},
   "source": [
    "## Implement the external attention block"
   ]
  },
  {
   "cell_type": "code",
   "execution_count": 18,
   "metadata": {
    "id": "uwIWPtBH-9cc"
   },
   "outputs": [],
   "source": [
    "def external_attention(\n",
    "    x, dim, num_heads, dim_coefficient=4, attention_dropout=0, projection_dropout=0\n",
    "):\n",
    "    _, num_patch, channel = x.shape\n",
    "    assert dim % num_heads == 0\n",
    "    num_heads = num_heads * dim_coefficient\n",
    "\n",
    "    x = layers.Dense(dim * dim_coefficient)(x)\n",
    "    # create tensor [batch_size, num_patches, num_heads, dim*dim_coefficient//num_heads]\n",
    "    x = tf.reshape(\n",
    "        x, shape=(-1, num_patch, num_heads, dim * dim_coefficient // num_heads)\n",
    "    )\n",
    "    x = tf.transpose(x, perm=[0, 2, 1, 3])\n",
    "    # a linear layer M_k\n",
    "    attn = layers.Dense(dim // dim_coefficient)(x)\n",
    "    # normalize attention map\n",
    "    attn = layers.Softmax(axis=2)(attn)\n",
    "    # dobule-normalization\n",
    "    attn = attn / (1e-9 + tf.reduce_sum(attn, axis=-1, keepdims=True))\n",
    "    attn = layers.Dropout(attention_dropout)(attn)\n",
    "    # a linear layer M_v\n",
    "    x = layers.Dense(dim * dim_coefficient // num_heads)(attn)\n",
    "    x = tf.transpose(x, perm=[0, 2, 1, 3])\n",
    "    x = tf.reshape(x, [-1, num_patch, dim * dim_coefficient])\n",
    "    # a linear layer to project original dim\n",
    "    x = layers.Dense(dim)(x)\n",
    "    x = layers.Dropout(projection_dropout)(x)\n",
    "    return x"
   ]
  },
  {
   "cell_type": "markdown",
   "metadata": {
    "id": "__DzC0Vx-9cc"
   },
   "source": [
    "## Implement the MLP"
   ]
  },
  {
   "cell_type": "code",
   "execution_count": 19,
   "metadata": {
    "id": "nfXIU3ei-9cc"
   },
   "outputs": [],
   "source": [
    "def mlp(x, embedding_dim, mlp_dim, drop_rate=0.2):\n",
    "    x = layers.Dense(mlp_dim, activation=tf.nn.gelu)(x)\n",
    "    x = layers.Dropout(drop_rate)(x)\n",
    "    x = layers.Dense(embedding_dim)(x)\n",
    "    x = layers.Dropout(drop_rate)(x)\n",
    "    return x"
   ]
  },
  {
   "cell_type": "markdown",
   "metadata": {
    "id": "mUlsFKKs-9cc"
   },
   "source": [
    "## Implement the Transformer block"
   ]
  },
  {
   "cell_type": "code",
   "execution_count": 20,
   "metadata": {
    "id": "eDRvO9en-9cd"
   },
   "outputs": [],
   "source": [
    "def transformer_encoder(\n",
    "    x,\n",
    "    embedding_dim,\n",
    "    mlp_dim,\n",
    "    num_heads,\n",
    "    dim_coefficient,\n",
    "    attention_dropout,\n",
    "    projection_dropout,\n",
    "    attention_type=\"external_attention\",\n",
    "):\n",
    "    residual_1 = x\n",
    "    x = layers.LayerNormalization(epsilon=1e-5)(x)\n",
    "    if attention_type == \"external_attention\":\n",
    "        x = external_attention(\n",
    "            x,\n",
    "            embedding_dim,\n",
    "            num_heads,\n",
    "            dim_coefficient,\n",
    "            attention_dropout,\n",
    "            projection_dropout,\n",
    "        )\n",
    "    elif attention_type == \"self_attention\":\n",
    "        x = layers.MultiHeadAttention(\n",
    "            num_heads=num_heads, key_dim=embedding_dim, dropout=attention_dropout\n",
    "        )(x, x)\n",
    "    x = layers.add([x, residual_1])\n",
    "    residual_2 = x\n",
    "    x = layers.LayerNormalization(epsilon=1e-5)(x)\n",
    "    x = mlp(x, embedding_dim, mlp_dim)\n",
    "    x = layers.add([x, residual_2])\n",
    "    return x\n"
   ]
  },
  {
   "cell_type": "markdown",
   "metadata": {
    "id": "BnBjCmEz-9cd"
   },
   "source": [
    "## Implement the EANet model"
   ]
  },
  {
   "cell_type": "code",
   "execution_count": 21,
   "metadata": {},
   "outputs": [],
   "source": [
    "def get_model(attention_type=\"external_attention\"):\n",
    "    inputs = layers.Input(shape=input_shape)\n",
    "    # Image augment\n",
    "    x = data_augmentation(inputs)\n",
    "    # Extract patches.\n",
    "    x = PatchExtract(patch_size)(x)\n",
    "    # Create patch embedding.\n",
    "    x = PatchEmbedding(num_patches, embedding_dim)(x)\n",
    "    # Create Transformer block.\n",
    "    for _ in range(num_transformer_blocks):\n",
    "        x = transformer_encoder(\n",
    "            x,\n",
    "            embedding_dim,\n",
    "            mlp_dim,\n",
    "            num_heads,\n",
    "            dim_coefficient,\n",
    "            attention_dropout,\n",
    "            projection_dropout,\n",
    "            attention_type,\n",
    "        )\n",
    "\n",
    "    x = layers.GlobalAvgPool1D()(x)\n",
    "    outputs = layers.Dense( len(classes) , activation=\"softmax\")(x)\n",
    "    model = keras.Model(inputs=inputs, outputs=outputs)\n",
    "    return model"
   ]
  },
  {
   "cell_type": "code",
   "execution_count": 22,
   "metadata": {
    "id": "BADJfRp6-9cd",
    "tags": []
   },
   "outputs": [],
   "source": [
    "# Some code is taken from:\n",
    "# https://www.kaggle.com/ashusma/training-rfcx-tensorflow-tpu-effnet-b2.\n",
    "class WarmUpCosine(keras.optimizers.schedules.LearningRateSchedule):\n",
    "    def __init__(\n",
    "        self, learning_rate_base, total_steps, warmup_learning_rate, warmup_steps\n",
    "    ):\n",
    "        super(WarmUpCosine, self).__init__()\n",
    "\n",
    "        self.learning_rate_base = learning_rate_base\n",
    "        self.total_steps = total_steps\n",
    "        self.warmup_learning_rate = warmup_learning_rate\n",
    "        self.warmup_steps = warmup_steps\n",
    "        self.pi = tf.constant(np.pi)\n",
    "\n",
    "    def __call__(self, step):\n",
    "        if self.total_steps < self.warmup_steps:\n",
    "            raise ValueError(\"Total_steps must be larger or equal to warmup_steps.\")\n",
    "\n",
    "        cos_annealed_lr = tf.cos(\n",
    "            self.pi\n",
    "            * (tf.cast(step, tf.float32) - self.warmup_steps)\n",
    "            / float(self.total_steps - self.warmup_steps)\n",
    "        )\n",
    "        learning_rate = 0.5 * self.learning_rate_base * (1 + cos_annealed_lr)\n",
    "\n",
    "        if self.warmup_steps > 0:\n",
    "            if self.learning_rate_base < self.warmup_learning_rate:\n",
    "                raise ValueError(\n",
    "                    \"Learning_rate_base must be larger or equal to \"\n",
    "                    \"warmup_learning_rate.\"\n",
    "                )\n",
    "            slope = (\n",
    "                self.learning_rate_base - self.warmup_learning_rate\n",
    "            ) / self.warmup_steps\n",
    "            warmup_rate = slope * tf.cast(step, tf.float32) + self.warmup_learning_rate\n",
    "            learning_rate = tf.where(\n",
    "                step < self.warmup_steps, warmup_rate, learning_rate\n",
    "            )\n",
    "        return tf.where(\n",
    "            step > self.total_steps, 0.0, learning_rate, name=\"learning_rate\"\n",
    "        )"
   ]
  },
  {
   "cell_type": "markdown",
   "metadata": {},
   "source": [
    "### model training"
   ]
  },
  {
   "cell_type": "code",
   "execution_count": 23,
   "metadata": {
    "collapsed": true,
    "jupyter": {
     "outputs_hidden": true
    },
    "tags": []
   },
   "outputs": [
    {
     "name": "stdout",
     "output_type": "stream",
     "text": [
      "Epoch 1/200\n"
     ]
    },
    {
     "name": "stderr",
     "output_type": "stream",
     "text": [
      "2023-01-09 18:46:28.989823: W tensorflow/core/framework/cpu_allocator_impl.cc:82] Allocation of 1027076544 exceeds 10% of free system memory.\n"
     ]
    },
    {
     "name": "stdout",
     "output_type": "stream",
     "text": [
      "28/28 [==============================] - 48s 1s/step - loss: 6.3626 - accuracy: 0.0444 - top-5-accuracy: 0.1791 - val_loss: 6.7162 - val_accuracy: 0.0000e+00 - val_top-5-accuracy: 0.0625 - lr: 0.0010\n",
      "Epoch 2/200\n",
      "28/28 [==============================] - 35s 1s/step - loss: 4.3364 - accuracy: 0.0771 - top-5-accuracy: 0.2627 - val_loss: 5.1771 - val_accuracy: 0.0000e+00 - val_top-5-accuracy: 0.1091 - lr: 0.0010\n",
      "Epoch 3/200\n",
      "28/28 [==============================] - 35s 1s/step - loss: 3.9377 - accuracy: 0.0930 - top-5-accuracy: 0.3349 - val_loss: 4.8068 - val_accuracy: 0.0341 - val_top-5-accuracy: 0.1409 - lr: 0.0010\n",
      "Epoch 4/200\n",
      "28/28 [==============================] - 35s 1s/step - loss: 3.7632 - accuracy: 0.1089 - top-5-accuracy: 0.3489 - val_loss: 4.9116 - val_accuracy: 0.0341 - val_top-5-accuracy: 0.1205 - lr: 0.0010\n",
      "Epoch 5/200\n",
      "28/28 [==============================] - 35s 1s/step - loss: 3.6405 - accuracy: 0.1169 - top-5-accuracy: 0.3890 - val_loss: 4.5233 - val_accuracy: 0.0341 - val_top-5-accuracy: 0.1693 - lr: 0.0010\n",
      "Epoch 6/200\n",
      "28/28 [==============================] - 35s 1s/step - loss: 3.5060 - accuracy: 0.1396 - top-5-accuracy: 0.4276 - val_loss: 4.3219 - val_accuracy: 0.0341 - val_top-5-accuracy: 0.1602 - lr: 0.0010\n",
      "Epoch 7/200\n",
      "28/28 [==============================] - 35s 1s/step - loss: 3.3966 - accuracy: 0.1496 - top-5-accuracy: 0.4649 - val_loss: 6.0462 - val_accuracy: 0.0466 - val_top-5-accuracy: 0.1841 - lr: 0.0010\n",
      "Epoch 8/200\n",
      "28/28 [==============================] - 35s 1s/step - loss: 3.3595 - accuracy: 0.1595 - top-5-accuracy: 0.4822 - val_loss: 8.2821 - val_accuracy: 0.0466 - val_top-5-accuracy: 0.1841 - lr: 0.0010\n",
      "Epoch 9/200\n",
      "28/28 [==============================] - 35s 1s/step - loss: 3.2879 - accuracy: 0.1771 - top-5-accuracy: 0.5127 - val_loss: 6.7807 - val_accuracy: 0.0341 - val_top-5-accuracy: 0.1807 - lr: 0.0010\n",
      "Epoch 10/200\n",
      "28/28 [==============================] - 35s 1s/step - loss: 3.2589 - accuracy: 0.1760 - top-5-accuracy: 0.5155 - val_loss: 8.0080 - val_accuracy: 0.0409 - val_top-5-accuracy: 0.1909 - lr: 0.0010\n",
      "Epoch 11/200\n",
      "28/28 [==============================] - 35s 1s/step - loss: 3.1873 - accuracy: 0.2078 - top-5-accuracy: 0.5345 - val_loss: 10.0458 - val_accuracy: 0.0466 - val_top-5-accuracy: 0.1818 - lr: 0.0010\n",
      "Epoch 12/200\n",
      "28/28 [==============================] - 35s 1s/step - loss: 3.1516 - accuracy: 0.2093 - top-5-accuracy: 0.5618 - val_loss: 10.3077 - val_accuracy: 0.0466 - val_top-5-accuracy: 0.1841 - lr: 0.0010\n",
      "Epoch 13/200\n",
      "28/28 [==============================] - 35s 1s/step - loss: 3.1210 - accuracy: 0.2221 - top-5-accuracy: 0.5698 - val_loss: 10.6903 - val_accuracy: 0.0466 - val_top-5-accuracy: 0.1920 - lr: 0.0010\n",
      "Epoch 14/200\n",
      "28/28 [==============================] - 35s 1s/step - loss: 3.1089 - accuracy: 0.2300 - top-5-accuracy: 0.5726 - val_loss: 11.4896 - val_accuracy: 0.0466 - val_top-5-accuracy: 0.1841 - lr: 0.0010\n",
      "Epoch 15/200\n",
      "28/28 [==============================] - 35s 1s/step - loss: 3.0639 - accuracy: 0.2400 - top-5-accuracy: 0.5874 - val_loss: 10.1502 - val_accuracy: 0.0466 - val_top-5-accuracy: 0.1841 - lr: 0.0010\n",
      "Epoch 16/200\n",
      "28/28 [==============================] - 35s 1s/step - loss: 3.0538 - accuracy: 0.2400 - top-5-accuracy: 0.5866 - val_loss: 10.6557 - val_accuracy: 0.0466 - val_top-5-accuracy: 0.1841 - lr: 0.0010\n",
      "Epoch 17/200\n",
      "28/28 [==============================] - 35s 1s/step - loss: 2.9899 - accuracy: 0.2585 - top-5-accuracy: 0.6079 - val_loss: 10.5792 - val_accuracy: 0.0466 - val_top-5-accuracy: 0.1830 - lr: 0.0010\n",
      "Epoch 18/200\n",
      "28/28 [==============================] - 35s 1s/step - loss: 3.0049 - accuracy: 0.2508 - top-5-accuracy: 0.6156 - val_loss: 10.0455 - val_accuracy: 0.0466 - val_top-5-accuracy: 0.1841 - lr: 0.0010\n",
      "Epoch 19/200\n",
      "28/28 [==============================] - 35s 1s/step - loss: 2.9559 - accuracy: 0.2715 - top-5-accuracy: 0.6272 - val_loss: 10.5492 - val_accuracy: 0.0466 - val_top-5-accuracy: 0.1818 - lr: 0.0010\n",
      "Epoch 20/200\n",
      "28/28 [==============================] - 35s 1s/step - loss: 2.9139 - accuracy: 0.2866 - top-5-accuracy: 0.6440 - val_loss: 8.3772 - val_accuracy: 0.0511 - val_top-5-accuracy: 0.1818 - lr: 0.0010\n",
      "Epoch 21/200\n",
      "28/28 [==============================] - 35s 1s/step - loss: 2.9296 - accuracy: 0.2775 - top-5-accuracy: 0.6361 - val_loss: 8.1528 - val_accuracy: 0.0466 - val_top-5-accuracy: 0.1989 - lr: 0.0010\n",
      "Epoch 22/200\n",
      "28/28 [==============================] - 35s 1s/step - loss: 2.9079 - accuracy: 0.2835 - top-5-accuracy: 0.6446 - val_loss: 6.3417 - val_accuracy: 0.0489 - val_top-5-accuracy: 0.2239 - lr: 0.0010\n",
      "Epoch 23/200\n",
      "28/28 [==============================] - 35s 1s/step - loss: 2.8778 - accuracy: 0.2920 - top-5-accuracy: 0.6514 - val_loss: 6.2687 - val_accuracy: 0.0591 - val_top-5-accuracy: 0.2409 - lr: 0.0010\n",
      "Epoch 24/200\n",
      "28/28 [==============================] - 35s 1s/step - loss: 2.8389 - accuracy: 0.2974 - top-5-accuracy: 0.6699 - val_loss: 5.5073 - val_accuracy: 0.0580 - val_top-5-accuracy: 0.2648 - lr: 0.0010\n",
      "Epoch 25/200\n",
      "28/28 [==============================] - 35s 1s/step - loss: 2.8083 - accuracy: 0.3040 - top-5-accuracy: 0.6807 - val_loss: 3.8452 - val_accuracy: 0.1170 - val_top-5-accuracy: 0.4239 - lr: 0.0010\n",
      "Epoch 26/200\n",
      "28/28 [==============================] - 35s 1s/step - loss: 2.7874 - accuracy: 0.3133 - top-5-accuracy: 0.6818 - val_loss: 4.1772 - val_accuracy: 0.1330 - val_top-5-accuracy: 0.4023 - lr: 0.0010\n",
      "Epoch 27/200\n",
      "28/28 [==============================] - 35s 1s/step - loss: 2.7528 - accuracy: 0.3384 - top-5-accuracy: 0.6952 - val_loss: 3.5888 - val_accuracy: 0.1659 - val_top-5-accuracy: 0.4898 - lr: 0.0010\n",
      "Epoch 28/200\n",
      "28/28 [==============================] - 35s 1s/step - loss: 2.7573 - accuracy: 0.3315 - top-5-accuracy: 0.6895 - val_loss: 3.3275 - val_accuracy: 0.2045 - val_top-5-accuracy: 0.5716 - lr: 0.0010\n",
      "Epoch 29/200\n",
      "28/28 [==============================] - 35s 1s/step - loss: 2.7209 - accuracy: 0.3443 - top-5-accuracy: 0.7125 - val_loss: 2.9680 - val_accuracy: 0.2750 - val_top-5-accuracy: 0.6386 - lr: 0.0010\n",
      "Epoch 30/200\n",
      "28/28 [==============================] - 35s 1s/step - loss: 2.7102 - accuracy: 0.3395 - top-5-accuracy: 0.7148 - val_loss: 2.8325 - val_accuracy: 0.3091 - val_top-5-accuracy: 0.6864 - lr: 0.0010\n",
      "Epoch 31/200\n",
      "28/28 [==============================] - 35s 1s/step - loss: 2.6673 - accuracy: 0.3594 - top-5-accuracy: 0.7231 - val_loss: 2.7690 - val_accuracy: 0.3523 - val_top-5-accuracy: 0.6761 - lr: 0.0010\n",
      "Epoch 32/200\n",
      "28/28 [==============================] - 35s 1s/step - loss: 2.6314 - accuracy: 0.3779 - top-5-accuracy: 0.7276 - val_loss: 2.7365 - val_accuracy: 0.3636 - val_top-5-accuracy: 0.6989 - lr: 0.0010\n",
      "Epoch 33/200\n",
      "28/28 [==============================] - 35s 1s/step - loss: 2.5985 - accuracy: 0.3984 - top-5-accuracy: 0.7384 - val_loss: 2.7480 - val_accuracy: 0.3511 - val_top-5-accuracy: 0.6943 - lr: 0.0010\n",
      "Epoch 34/200\n",
      "28/28 [==============================] - 35s 1s/step - loss: 2.6081 - accuracy: 0.3850 - top-5-accuracy: 0.7464 - val_loss: 2.5760 - val_accuracy: 0.4034 - val_top-5-accuracy: 0.7375 - lr: 0.0010\n",
      "Epoch 35/200\n",
      "28/28 [==============================] - 35s 1s/step - loss: 2.5848 - accuracy: 0.3867 - top-5-accuracy: 0.7424 - val_loss: 2.6311 - val_accuracy: 0.3727 - val_top-5-accuracy: 0.7409 - lr: 0.0010\n",
      "Epoch 36/200\n",
      "28/28 [==============================] - 35s 1s/step - loss: 2.5908 - accuracy: 0.3921 - top-5-accuracy: 0.7458 - val_loss: 2.6341 - val_accuracy: 0.3830 - val_top-5-accuracy: 0.7239 - lr: 0.0010\n",
      "Epoch 37/200\n",
      "28/28 [==============================] - 35s 1s/step - loss: 2.5138 - accuracy: 0.4089 - top-5-accuracy: 0.7762 - val_loss: 2.5188 - val_accuracy: 0.4091 - val_top-5-accuracy: 0.7830 - lr: 0.0010\n",
      "Epoch 38/200\n",
      "28/28 [==============================] - 35s 1s/step - loss: 2.4965 - accuracy: 0.4083 - top-5-accuracy: 0.7740 - val_loss: 2.4876 - val_accuracy: 0.4477 - val_top-5-accuracy: 0.7580 - lr: 0.0010\n",
      "Epoch 39/200\n",
      "28/28 [==============================] - 35s 1s/step - loss: 2.4679 - accuracy: 0.4302 - top-5-accuracy: 0.7822 - val_loss: 2.5437 - val_accuracy: 0.4170 - val_top-5-accuracy: 0.7580 - lr: 0.0010\n",
      "Epoch 40/200\n",
      "28/28 [==============================] - 35s 1s/step - loss: 2.4879 - accuracy: 0.4239 - top-5-accuracy: 0.7737 - val_loss: 2.4954 - val_accuracy: 0.4409 - val_top-5-accuracy: 0.7636 - lr: 0.0010\n",
      "Epoch 41/200\n",
      "28/28 [==============================] - 35s 1s/step - loss: 2.4470 - accuracy: 0.4336 - top-5-accuracy: 0.7822 - val_loss: 2.4893 - val_accuracy: 0.4420 - val_top-5-accuracy: 0.7705 - lr: 0.0010\n",
      "Epoch 42/200\n",
      "28/28 [==============================] - 35s 1s/step - loss: 2.3834 - accuracy: 0.4635 - top-5-accuracy: 0.8049 - val_loss: 2.5072 - val_accuracy: 0.4364 - val_top-5-accuracy: 0.7648 - lr: 0.0010\n",
      "Epoch 43/200\n",
      "28/28 [==============================] - 35s 1s/step - loss: 2.4211 - accuracy: 0.4498 - top-5-accuracy: 0.7976 - val_loss: 2.4782 - val_accuracy: 0.4568 - val_top-5-accuracy: 0.7807 - lr: 0.0010\n",
      "Epoch 44/200\n",
      "28/28 [==============================] - 35s 1s/step - loss: 2.3748 - accuracy: 0.4649 - top-5-accuracy: 0.8086 - val_loss: 2.4339 - val_accuracy: 0.4614 - val_top-5-accuracy: 0.7909 - lr: 0.0010\n",
      "Epoch 45/200\n",
      "28/28 [==============================] - 35s 1s/step - loss: 2.3562 - accuracy: 0.4674 - top-5-accuracy: 0.8152 - val_loss: 2.4044 - val_accuracy: 0.4670 - val_top-5-accuracy: 0.7920 - lr: 0.0010\n",
      "Epoch 46/200\n",
      "28/28 [==============================] - 35s 1s/step - loss: 2.3470 - accuracy: 0.4660 - top-5-accuracy: 0.8163 - val_loss: 2.3935 - val_accuracy: 0.4659 - val_top-5-accuracy: 0.8000 - lr: 0.0010\n",
      "Epoch 47/200\n",
      "28/28 [==============================] - 35s 1s/step - loss: 2.2928 - accuracy: 0.4848 - top-5-accuracy: 0.8274 - val_loss: 2.4690 - val_accuracy: 0.4432 - val_top-5-accuracy: 0.7716 - lr: 0.0010\n",
      "Epoch 48/200\n",
      "28/28 [==============================] - 35s 1s/step - loss: 2.2848 - accuracy: 0.4882 - top-5-accuracy: 0.8325 - val_loss: 2.3394 - val_accuracy: 0.4773 - val_top-5-accuracy: 0.7989 - lr: 0.0010\n",
      "Epoch 49/200\n",
      "28/28 [==============================] - 35s 1s/step - loss: 2.2561 - accuracy: 0.4936 - top-5-accuracy: 0.8365 - val_loss: 2.3557 - val_accuracy: 0.4818 - val_top-5-accuracy: 0.8148 - lr: 0.0010\n",
      "Epoch 50/200\n",
      "28/28 [==============================] - 35s 1s/step - loss: 2.2359 - accuracy: 0.5067 - top-5-accuracy: 0.8413 - val_loss: 2.3633 - val_accuracy: 0.4716 - val_top-5-accuracy: 0.8102 - lr: 0.0010\n",
      "Epoch 51/200\n",
      "28/28 [==============================] - 35s 1s/step - loss: 2.2195 - accuracy: 0.5127 - top-5-accuracy: 0.8439 - val_loss: 2.3497 - val_accuracy: 0.4750 - val_top-5-accuracy: 0.8011 - lr: 0.0010\n",
      "Epoch 52/200\n",
      "28/28 [==============================] - 35s 1s/step - loss: 2.2268 - accuracy: 0.5036 - top-5-accuracy: 0.8445 - val_loss: 2.3738 - val_accuracy: 0.4795 - val_top-5-accuracy: 0.8068 - lr: 0.0010\n",
      "Epoch 53/200\n",
      "28/28 [==============================] - 35s 1s/step - loss: 2.2154 - accuracy: 0.5118 - top-5-accuracy: 0.8470 - val_loss: 2.3530 - val_accuracy: 0.4773 - val_top-5-accuracy: 0.8148 - lr: 0.0010\n",
      "Epoch 54/200\n",
      "28/28 [==============================] - 35s 1s/step - loss: 2.2176 - accuracy: 0.5163 - top-5-accuracy: 0.8411 - val_loss: 2.3262 - val_accuracy: 0.4955 - val_top-5-accuracy: 0.8114 - lr: 0.0010\n",
      "Epoch 55/200\n",
      "28/28 [==============================] - 35s 1s/step - loss: 2.1665 - accuracy: 0.5280 - top-5-accuracy: 0.8527 - val_loss: 2.3185 - val_accuracy: 0.4932 - val_top-5-accuracy: 0.8250 - lr: 0.0010\n",
      "Epoch 56/200\n",
      "28/28 [==============================] - 35s 1s/step - loss: 2.1392 - accuracy: 0.5331 - top-5-accuracy: 0.8541 - val_loss: 2.3255 - val_accuracy: 0.5114 - val_top-5-accuracy: 0.8159 - lr: 0.0010\n",
      "Epoch 57/200\n",
      "28/28 [==============================] - 35s 1s/step - loss: 2.1288 - accuracy: 0.5377 - top-5-accuracy: 0.8658 - val_loss: 2.2695 - val_accuracy: 0.5182 - val_top-5-accuracy: 0.8227 - lr: 0.0010\n",
      "Epoch 58/200\n",
      "28/28 [==============================] - 35s 1s/step - loss: 2.1321 - accuracy: 0.5473 - top-5-accuracy: 0.8587 - val_loss: 2.2605 - val_accuracy: 0.5398 - val_top-5-accuracy: 0.8318 - lr: 0.0010\n",
      "Epoch 59/200\n",
      "28/28 [==============================] - 35s 1s/step - loss: 2.1098 - accuracy: 0.5547 - top-5-accuracy: 0.8695 - val_loss: 2.2475 - val_accuracy: 0.5375 - val_top-5-accuracy: 0.8307 - lr: 0.0010\n",
      "Epoch 60/200\n",
      "28/28 [==============================] - 35s 1s/step - loss: 2.1072 - accuracy: 0.5408 - top-5-accuracy: 0.8692 - val_loss: 2.2601 - val_accuracy: 0.5193 - val_top-5-accuracy: 0.8341 - lr: 0.0010\n",
      "Epoch 61/200\n",
      "28/28 [==============================] - 35s 1s/step - loss: 2.1131 - accuracy: 0.5473 - top-5-accuracy: 0.8658 - val_loss: 2.2595 - val_accuracy: 0.5102 - val_top-5-accuracy: 0.8261 - lr: 0.0010\n",
      "Epoch 62/200\n",
      "28/28 [==============================] - 35s 1s/step - loss: 2.0755 - accuracy: 0.5653 - top-5-accuracy: 0.8698 - val_loss: 2.2427 - val_accuracy: 0.5250 - val_top-5-accuracy: 0.8330 - lr: 0.0010\n",
      "Epoch 63/200\n",
      "28/28 [==============================] - 35s 1s/step - loss: 2.0830 - accuracy: 0.5553 - top-5-accuracy: 0.8757 - val_loss: 2.2106 - val_accuracy: 0.5295 - val_top-5-accuracy: 0.8352 - lr: 0.0010\n",
      "Epoch 64/200\n",
      "28/28 [==============================] - 35s 1s/step - loss: 2.0658 - accuracy: 0.5590 - top-5-accuracy: 0.8826 - val_loss: 2.2716 - val_accuracy: 0.5159 - val_top-5-accuracy: 0.8330 - lr: 0.0010\n",
      "Epoch 65/200\n",
      "28/28 [==============================] - 35s 1s/step - loss: 2.0523 - accuracy: 0.5661 - top-5-accuracy: 0.8743 - val_loss: 2.1911 - val_accuracy: 0.5659 - val_top-5-accuracy: 0.8375 - lr: 0.0010\n",
      "Epoch 66/200\n",
      "28/28 [==============================] - 35s 1s/step - loss: 2.0202 - accuracy: 0.5871 - top-5-accuracy: 0.8857 - val_loss: 2.2139 - val_accuracy: 0.5318 - val_top-5-accuracy: 0.8364 - lr: 0.0010\n",
      "Epoch 67/200\n",
      "28/28 [==============================] - 35s 1s/step - loss: 2.0169 - accuracy: 0.5775 - top-5-accuracy: 0.8922 - val_loss: 2.1845 - val_accuracy: 0.5341 - val_top-5-accuracy: 0.8398 - lr: 0.0010\n",
      "Epoch 68/200\n",
      "28/28 [==============================] - 35s 1s/step - loss: 2.0116 - accuracy: 0.5891 - top-5-accuracy: 0.8851 - val_loss: 2.1686 - val_accuracy: 0.5591 - val_top-5-accuracy: 0.8364 - lr: 0.0010\n",
      "Epoch 69/200\n",
      "28/28 [==============================] - 35s 1s/step - loss: 1.9801 - accuracy: 0.5977 - top-5-accuracy: 0.8917 - val_loss: 2.1317 - val_accuracy: 0.5818 - val_top-5-accuracy: 0.8591 - lr: 0.0010\n",
      "Epoch 70/200\n",
      "28/28 [==============================] - 35s 1s/step - loss: 1.9706 - accuracy: 0.5951 - top-5-accuracy: 0.8939 - val_loss: 2.1324 - val_accuracy: 0.5682 - val_top-5-accuracy: 0.8489 - lr: 0.0010\n",
      "Epoch 71/200\n",
      "28/28 [==============================] - 35s 1s/step - loss: 1.9700 - accuracy: 0.6008 - top-5-accuracy: 0.8939 - val_loss: 2.1222 - val_accuracy: 0.5636 - val_top-5-accuracy: 0.8534 - lr: 0.0010\n",
      "Epoch 72/200\n",
      "28/28 [==============================] - 35s 1s/step - loss: 1.9475 - accuracy: 0.6122 - top-5-accuracy: 0.9002 - val_loss: 2.1896 - val_accuracy: 0.5489 - val_top-5-accuracy: 0.8420 - lr: 0.0010\n",
      "Epoch 73/200\n",
      "28/28 [==============================] - 35s 1s/step - loss: 1.9393 - accuracy: 0.6059 - top-5-accuracy: 0.9104 - val_loss: 2.1643 - val_accuracy: 0.5682 - val_top-5-accuracy: 0.8534 - lr: 0.0010\n",
      "Epoch 74/200\n",
      "28/28 [==============================] - 35s 1s/step - loss: 1.9737 - accuracy: 0.5906 - top-5-accuracy: 0.8954 - val_loss: 2.1635 - val_accuracy: 0.5523 - val_top-5-accuracy: 0.8511 - lr: 0.0010\n",
      "Epoch 75/200\n",
      "28/28 [==============================] - 35s 1s/step - loss: 1.9226 - accuracy: 0.6196 - top-5-accuracy: 0.9013 - val_loss: 2.1421 - val_accuracy: 0.5841 - val_top-5-accuracy: 0.8545 - lr: 0.0010\n",
      "Epoch 76/200\n",
      "28/28 [==============================] - 35s 1s/step - loss: 1.8975 - accuracy: 0.6309 - top-5-accuracy: 0.9093 - val_loss: 2.1034 - val_accuracy: 0.5807 - val_top-5-accuracy: 0.8500 - lr: 0.0010\n",
      "Epoch 77/200\n",
      "28/28 [==============================] - 35s 1s/step - loss: 1.9313 - accuracy: 0.5988 - top-5-accuracy: 0.9028 - val_loss: 2.1327 - val_accuracy: 0.5682 - val_top-5-accuracy: 0.8534 - lr: 0.0010\n",
      "Epoch 78/200\n",
      "28/28 [==============================] - 36s 1s/step - loss: 1.9354 - accuracy: 0.6147 - top-5-accuracy: 0.9011 - val_loss: 2.1124 - val_accuracy: 0.5761 - val_top-5-accuracy: 0.8534 - lr: 0.0010\n",
      "Epoch 79/200\n",
      "28/28 [==============================] - 36s 1s/step - loss: 1.9137 - accuracy: 0.6190 - top-5-accuracy: 0.9022 - val_loss: 2.1006 - val_accuracy: 0.5727 - val_top-5-accuracy: 0.8716 - lr: 0.0010\n",
      "Epoch 80/200\n",
      "28/28 [==============================] - 35s 1s/step - loss: 1.9114 - accuracy: 0.6230 - top-5-accuracy: 0.9104 - val_loss: 2.0931 - val_accuracy: 0.5750 - val_top-5-accuracy: 0.8670 - lr: 0.0010\n",
      "Epoch 81/200\n",
      "28/28 [==============================] - 35s 1s/step - loss: 1.8818 - accuracy: 0.6264 - top-5-accuracy: 0.9127 - val_loss: 2.0990 - val_accuracy: 0.5659 - val_top-5-accuracy: 0.8784 - lr: 0.0010\n",
      "Epoch 82/200\n",
      "28/28 [==============================] - 35s 1s/step - loss: 1.8447 - accuracy: 0.6423 - top-5-accuracy: 0.9195 - val_loss: 2.1258 - val_accuracy: 0.5716 - val_top-5-accuracy: 0.8636 - lr: 0.0010\n",
      "Epoch 83/200\n",
      "28/28 [==============================] - 35s 1s/step - loss: 1.8794 - accuracy: 0.6255 - top-5-accuracy: 0.9184 - val_loss: 2.1094 - val_accuracy: 0.5795 - val_top-5-accuracy: 0.8693 - lr: 0.0010\n",
      "Epoch 84/200\n",
      "28/28 [==============================] - 36s 1s/step - loss: 1.8853 - accuracy: 0.6238 - top-5-accuracy: 0.9130 - val_loss: 2.0890 - val_accuracy: 0.6000 - val_top-5-accuracy: 0.8636 - lr: 0.0010\n",
      "Epoch 85/200\n",
      "28/28 [==============================] - 35s 1s/step - loss: 1.8277 - accuracy: 0.6480 - top-5-accuracy: 0.9255 - val_loss: 2.1005 - val_accuracy: 0.5830 - val_top-5-accuracy: 0.8568 - lr: 0.0010\n",
      "Epoch 86/200\n",
      "28/28 [==============================] - 35s 1s/step - loss: 1.8450 - accuracy: 0.6449 - top-5-accuracy: 0.9190 - val_loss: 2.0547 - val_accuracy: 0.6045 - val_top-5-accuracy: 0.8670 - lr: 0.0010\n",
      "Epoch 87/200\n",
      "28/28 [==============================] - 35s 1s/step - loss: 1.8258 - accuracy: 0.6520 - top-5-accuracy: 0.9255 - val_loss: 2.0942 - val_accuracy: 0.5920 - val_top-5-accuracy: 0.8636 - lr: 0.0010\n",
      "Epoch 88/200\n",
      "28/28 [==============================] - 36s 1s/step - loss: 1.8216 - accuracy: 0.6520 - top-5-accuracy: 0.9252 - val_loss: 2.0296 - val_accuracy: 0.6011 - val_top-5-accuracy: 0.8682 - lr: 0.0010\n",
      "Epoch 89/200\n",
      "28/28 [==============================] - 35s 1s/step - loss: 1.8182 - accuracy: 0.6562 - top-5-accuracy: 0.9212 - val_loss: 2.0589 - val_accuracy: 0.5932 - val_top-5-accuracy: 0.8670 - lr: 0.0010\n",
      "Epoch 90/200\n",
      "28/28 [==============================] - 35s 1s/step - loss: 1.8395 - accuracy: 0.6463 - top-5-accuracy: 0.9170 - val_loss: 2.1285 - val_accuracy: 0.5636 - val_top-5-accuracy: 0.8659 - lr: 0.0010\n",
      "Epoch 91/200\n",
      "28/28 [==============================] - 35s 1s/step - loss: 1.7936 - accuracy: 0.6625 - top-5-accuracy: 0.9249 - val_loss: 2.0465 - val_accuracy: 0.5886 - val_top-5-accuracy: 0.8818 - lr: 0.0010\n",
      "Epoch 92/200\n",
      "28/28 [==============================] - 36s 1s/step - loss: 1.7902 - accuracy: 0.6656 - top-5-accuracy: 0.9266 - val_loss: 2.0606 - val_accuracy: 0.5932 - val_top-5-accuracy: 0.8682 - lr: 0.0010\n",
      "Epoch 93/200\n",
      "28/28 [==============================] - 35s 1s/step - loss: 1.8032 - accuracy: 0.6520 - top-5-accuracy: 0.9204 - val_loss: 2.0322 - val_accuracy: 0.6068 - val_top-5-accuracy: 0.8773 - lr: 0.0010\n",
      "Epoch 94/200\n",
      "28/28 [==============================] - 35s 1s/step - loss: 1.7905 - accuracy: 0.6605 - top-5-accuracy: 0.9301 - val_loss: 2.0456 - val_accuracy: 0.5932 - val_top-5-accuracy: 0.8727 - lr: 0.0010\n",
      "Epoch 95/200\n",
      "17/28 [=================>............] - ETA: 12s - loss: 1.7135 - accuracy: 0.6930 - top-5-accuracy: 0.9357"
     ]
    },
    {
     "ename": "KeyboardInterrupt",
     "evalue": "",
     "output_type": "error",
     "traceback": [
      "\u001b[0;31m---------------------------------------------------------------------------\u001b[0m",
      "\u001b[0;31mKeyboardInterrupt\u001b[0m                         Traceback (most recent call last)",
      "\u001b[0;32m/tmp/ipykernel_5589/1757998537.py\u001b[0m in \u001b[0;36m<cell line: 43>\u001b[0;34m()\u001b[0m\n\u001b[1;32m     41\u001b[0m \u001b[0;34m\u001b[0m\u001b[0m\n\u001b[1;32m     42\u001b[0m \u001b[0;34m\u001b[0m\u001b[0m\n\u001b[0;32m---> 43\u001b[0;31m history = model.fit(\n\u001b[0m\u001b[1;32m     44\u001b[0m     \u001b[0mx_train\u001b[0m\u001b[0;34m,\u001b[0m\u001b[0;34m\u001b[0m\u001b[0;34m\u001b[0m\u001b[0m\n\u001b[1;32m     45\u001b[0m     \u001b[0my_train\u001b[0m\u001b[0;34m,\u001b[0m\u001b[0;34m\u001b[0m\u001b[0;34m\u001b[0m\u001b[0m\n",
      "\u001b[0;32m~/.conda/envs/default/lib/python3.9/site-packages/keras/utils/traceback_utils.py\u001b[0m in \u001b[0;36merror_handler\u001b[0;34m(*args, **kwargs)\u001b[0m\n\u001b[1;32m     62\u001b[0m     \u001b[0mfiltered_tb\u001b[0m \u001b[0;34m=\u001b[0m \u001b[0;32mNone\u001b[0m\u001b[0;34m\u001b[0m\u001b[0;34m\u001b[0m\u001b[0m\n\u001b[1;32m     63\u001b[0m     \u001b[0;32mtry\u001b[0m\u001b[0;34m:\u001b[0m\u001b[0;34m\u001b[0m\u001b[0;34m\u001b[0m\u001b[0m\n\u001b[0;32m---> 64\u001b[0;31m       \u001b[0;32mreturn\u001b[0m \u001b[0mfn\u001b[0m\u001b[0;34m(\u001b[0m\u001b[0;34m*\u001b[0m\u001b[0margs\u001b[0m\u001b[0;34m,\u001b[0m \u001b[0;34m**\u001b[0m\u001b[0mkwargs\u001b[0m\u001b[0;34m)\u001b[0m\u001b[0;34m\u001b[0m\u001b[0;34m\u001b[0m\u001b[0m\n\u001b[0m\u001b[1;32m     65\u001b[0m     \u001b[0;32mexcept\u001b[0m \u001b[0mException\u001b[0m \u001b[0;32mas\u001b[0m \u001b[0me\u001b[0m\u001b[0;34m:\u001b[0m  \u001b[0;31m# pylint: disable=broad-except\u001b[0m\u001b[0;34m\u001b[0m\u001b[0;34m\u001b[0m\u001b[0m\n\u001b[1;32m     66\u001b[0m       \u001b[0mfiltered_tb\u001b[0m \u001b[0;34m=\u001b[0m \u001b[0m_process_traceback_frames\u001b[0m\u001b[0;34m(\u001b[0m\u001b[0me\u001b[0m\u001b[0;34m.\u001b[0m\u001b[0m__traceback__\u001b[0m\u001b[0;34m)\u001b[0m\u001b[0;34m\u001b[0m\u001b[0;34m\u001b[0m\u001b[0m\n",
      "\u001b[0;32m~/.conda/envs/default/lib/python3.9/site-packages/keras/engine/training.py\u001b[0m in \u001b[0;36mfit\u001b[0;34m(self, x, y, batch_size, epochs, verbose, callbacks, validation_split, validation_data, shuffle, class_weight, sample_weight, initial_epoch, steps_per_epoch, validation_steps, validation_batch_size, validation_freq, max_queue_size, workers, use_multiprocessing)\u001b[0m\n\u001b[1;32m   1382\u001b[0m                 _r=1):\n\u001b[1;32m   1383\u001b[0m               \u001b[0mcallbacks\u001b[0m\u001b[0;34m.\u001b[0m\u001b[0mon_train_batch_begin\u001b[0m\u001b[0;34m(\u001b[0m\u001b[0mstep\u001b[0m\u001b[0;34m)\u001b[0m\u001b[0;34m\u001b[0m\u001b[0;34m\u001b[0m\u001b[0m\n\u001b[0;32m-> 1384\u001b[0;31m               \u001b[0mtmp_logs\u001b[0m \u001b[0;34m=\u001b[0m \u001b[0mself\u001b[0m\u001b[0;34m.\u001b[0m\u001b[0mtrain_function\u001b[0m\u001b[0;34m(\u001b[0m\u001b[0miterator\u001b[0m\u001b[0;34m)\u001b[0m\u001b[0;34m\u001b[0m\u001b[0;34m\u001b[0m\u001b[0m\n\u001b[0m\u001b[1;32m   1385\u001b[0m               \u001b[0;32mif\u001b[0m \u001b[0mdata_handler\u001b[0m\u001b[0;34m.\u001b[0m\u001b[0mshould_sync\u001b[0m\u001b[0;34m:\u001b[0m\u001b[0;34m\u001b[0m\u001b[0;34m\u001b[0m\u001b[0m\n\u001b[1;32m   1386\u001b[0m                 \u001b[0mcontext\u001b[0m\u001b[0;34m.\u001b[0m\u001b[0masync_wait\u001b[0m\u001b[0;34m(\u001b[0m\u001b[0;34m)\u001b[0m\u001b[0;34m\u001b[0m\u001b[0;34m\u001b[0m\u001b[0m\n",
      "\u001b[0;32m~/.conda/envs/default/lib/python3.9/site-packages/tensorflow/python/util/traceback_utils.py\u001b[0m in \u001b[0;36merror_handler\u001b[0;34m(*args, **kwargs)\u001b[0m\n\u001b[1;32m    148\u001b[0m     \u001b[0mfiltered_tb\u001b[0m \u001b[0;34m=\u001b[0m \u001b[0;32mNone\u001b[0m\u001b[0;34m\u001b[0m\u001b[0;34m\u001b[0m\u001b[0m\n\u001b[1;32m    149\u001b[0m     \u001b[0;32mtry\u001b[0m\u001b[0;34m:\u001b[0m\u001b[0;34m\u001b[0m\u001b[0;34m\u001b[0m\u001b[0m\n\u001b[0;32m--> 150\u001b[0;31m       \u001b[0;32mreturn\u001b[0m \u001b[0mfn\u001b[0m\u001b[0;34m(\u001b[0m\u001b[0;34m*\u001b[0m\u001b[0margs\u001b[0m\u001b[0;34m,\u001b[0m \u001b[0;34m**\u001b[0m\u001b[0mkwargs\u001b[0m\u001b[0;34m)\u001b[0m\u001b[0;34m\u001b[0m\u001b[0;34m\u001b[0m\u001b[0m\n\u001b[0m\u001b[1;32m    151\u001b[0m     \u001b[0;32mexcept\u001b[0m \u001b[0mException\u001b[0m \u001b[0;32mas\u001b[0m \u001b[0me\u001b[0m\u001b[0;34m:\u001b[0m\u001b[0;34m\u001b[0m\u001b[0;34m\u001b[0m\u001b[0m\n\u001b[1;32m    152\u001b[0m       \u001b[0mfiltered_tb\u001b[0m \u001b[0;34m=\u001b[0m \u001b[0m_process_traceback_frames\u001b[0m\u001b[0;34m(\u001b[0m\u001b[0me\u001b[0m\u001b[0;34m.\u001b[0m\u001b[0m__traceback__\u001b[0m\u001b[0;34m)\u001b[0m\u001b[0;34m\u001b[0m\u001b[0;34m\u001b[0m\u001b[0m\n",
      "\u001b[0;32m~/.conda/envs/default/lib/python3.9/site-packages/tensorflow/python/eager/def_function.py\u001b[0m in \u001b[0;36m__call__\u001b[0;34m(self, *args, **kwds)\u001b[0m\n\u001b[1;32m    913\u001b[0m \u001b[0;34m\u001b[0m\u001b[0m\n\u001b[1;32m    914\u001b[0m       \u001b[0;32mwith\u001b[0m \u001b[0mOptionalXlaContext\u001b[0m\u001b[0;34m(\u001b[0m\u001b[0mself\u001b[0m\u001b[0;34m.\u001b[0m\u001b[0m_jit_compile\u001b[0m\u001b[0;34m)\u001b[0m\u001b[0;34m:\u001b[0m\u001b[0;34m\u001b[0m\u001b[0;34m\u001b[0m\u001b[0m\n\u001b[0;32m--> 915\u001b[0;31m         \u001b[0mresult\u001b[0m \u001b[0;34m=\u001b[0m \u001b[0mself\u001b[0m\u001b[0;34m.\u001b[0m\u001b[0m_call\u001b[0m\u001b[0;34m(\u001b[0m\u001b[0;34m*\u001b[0m\u001b[0margs\u001b[0m\u001b[0;34m,\u001b[0m \u001b[0;34m**\u001b[0m\u001b[0mkwds\u001b[0m\u001b[0;34m)\u001b[0m\u001b[0;34m\u001b[0m\u001b[0;34m\u001b[0m\u001b[0m\n\u001b[0m\u001b[1;32m    916\u001b[0m \u001b[0;34m\u001b[0m\u001b[0m\n\u001b[1;32m    917\u001b[0m       \u001b[0mnew_tracing_count\u001b[0m \u001b[0;34m=\u001b[0m \u001b[0mself\u001b[0m\u001b[0;34m.\u001b[0m\u001b[0mexperimental_get_tracing_count\u001b[0m\u001b[0;34m(\u001b[0m\u001b[0;34m)\u001b[0m\u001b[0;34m\u001b[0m\u001b[0;34m\u001b[0m\u001b[0m\n",
      "\u001b[0;32m~/.conda/envs/default/lib/python3.9/site-packages/tensorflow/python/eager/def_function.py\u001b[0m in \u001b[0;36m_call\u001b[0;34m(self, *args, **kwds)\u001b[0m\n\u001b[1;32m    945\u001b[0m       \u001b[0;31m# In this case we have created variables on the first call, so we run the\u001b[0m\u001b[0;34m\u001b[0m\u001b[0;34m\u001b[0m\u001b[0m\n\u001b[1;32m    946\u001b[0m       \u001b[0;31m# defunned version which is guaranteed to never create variables.\u001b[0m\u001b[0;34m\u001b[0m\u001b[0;34m\u001b[0m\u001b[0m\n\u001b[0;32m--> 947\u001b[0;31m       \u001b[0;32mreturn\u001b[0m \u001b[0mself\u001b[0m\u001b[0;34m.\u001b[0m\u001b[0m_stateless_fn\u001b[0m\u001b[0;34m(\u001b[0m\u001b[0;34m*\u001b[0m\u001b[0margs\u001b[0m\u001b[0;34m,\u001b[0m \u001b[0;34m**\u001b[0m\u001b[0mkwds\u001b[0m\u001b[0;34m)\u001b[0m  \u001b[0;31m# pylint: disable=not-callable\u001b[0m\u001b[0;34m\u001b[0m\u001b[0;34m\u001b[0m\u001b[0m\n\u001b[0m\u001b[1;32m    948\u001b[0m     \u001b[0;32melif\u001b[0m \u001b[0mself\u001b[0m\u001b[0;34m.\u001b[0m\u001b[0m_stateful_fn\u001b[0m \u001b[0;32mis\u001b[0m \u001b[0;32mnot\u001b[0m \u001b[0;32mNone\u001b[0m\u001b[0;34m:\u001b[0m\u001b[0;34m\u001b[0m\u001b[0;34m\u001b[0m\u001b[0m\n\u001b[1;32m    949\u001b[0m       \u001b[0;31m# Release the lock early so that multiple threads can perform the call\u001b[0m\u001b[0;34m\u001b[0m\u001b[0;34m\u001b[0m\u001b[0m\n",
      "\u001b[0;32m~/.conda/envs/default/lib/python3.9/site-packages/tensorflow/python/eager/function.py\u001b[0m in \u001b[0;36m__call__\u001b[0;34m(self, *args, **kwargs)\u001b[0m\n\u001b[1;32m   2954\u001b[0m       (graph_function,\n\u001b[1;32m   2955\u001b[0m        filtered_flat_args) = self._maybe_define_function(args, kwargs)\n\u001b[0;32m-> 2956\u001b[0;31m     return graph_function._call_flat(\n\u001b[0m\u001b[1;32m   2957\u001b[0m         filtered_flat_args, captured_inputs=graph_function.captured_inputs)  # pylint: disable=protected-access\n\u001b[1;32m   2958\u001b[0m \u001b[0;34m\u001b[0m\u001b[0m\n",
      "\u001b[0;32m~/.conda/envs/default/lib/python3.9/site-packages/tensorflow/python/eager/function.py\u001b[0m in \u001b[0;36m_call_flat\u001b[0;34m(self, args, captured_inputs, cancellation_manager)\u001b[0m\n\u001b[1;32m   1851\u001b[0m         and executing_eagerly):\n\u001b[1;32m   1852\u001b[0m       \u001b[0;31m# No tape is watching; skip to running the function.\u001b[0m\u001b[0;34m\u001b[0m\u001b[0;34m\u001b[0m\u001b[0m\n\u001b[0;32m-> 1853\u001b[0;31m       return self._build_call_outputs(self._inference_function.call(\n\u001b[0m\u001b[1;32m   1854\u001b[0m           ctx, args, cancellation_manager=cancellation_manager))\n\u001b[1;32m   1855\u001b[0m     forward_backward = self._select_forward_and_backward_functions(\n",
      "\u001b[0;32m~/.conda/envs/default/lib/python3.9/site-packages/tensorflow/python/eager/function.py\u001b[0m in \u001b[0;36mcall\u001b[0;34m(self, ctx, args, cancellation_manager)\u001b[0m\n\u001b[1;32m    497\u001b[0m       \u001b[0;32mwith\u001b[0m \u001b[0m_InterpolateFunctionError\u001b[0m\u001b[0;34m(\u001b[0m\u001b[0mself\u001b[0m\u001b[0;34m)\u001b[0m\u001b[0;34m:\u001b[0m\u001b[0;34m\u001b[0m\u001b[0;34m\u001b[0m\u001b[0m\n\u001b[1;32m    498\u001b[0m         \u001b[0;32mif\u001b[0m \u001b[0mcancellation_manager\u001b[0m \u001b[0;32mis\u001b[0m \u001b[0;32mNone\u001b[0m\u001b[0;34m:\u001b[0m\u001b[0;34m\u001b[0m\u001b[0;34m\u001b[0m\u001b[0m\n\u001b[0;32m--> 499\u001b[0;31m           outputs = execute.execute(\n\u001b[0m\u001b[1;32m    500\u001b[0m               \u001b[0mstr\u001b[0m\u001b[0;34m(\u001b[0m\u001b[0mself\u001b[0m\u001b[0;34m.\u001b[0m\u001b[0msignature\u001b[0m\u001b[0;34m.\u001b[0m\u001b[0mname\u001b[0m\u001b[0;34m)\u001b[0m\u001b[0;34m,\u001b[0m\u001b[0;34m\u001b[0m\u001b[0;34m\u001b[0m\u001b[0m\n\u001b[1;32m    501\u001b[0m               \u001b[0mnum_outputs\u001b[0m\u001b[0;34m=\u001b[0m\u001b[0mself\u001b[0m\u001b[0;34m.\u001b[0m\u001b[0m_num_outputs\u001b[0m\u001b[0;34m,\u001b[0m\u001b[0;34m\u001b[0m\u001b[0;34m\u001b[0m\u001b[0m\n",
      "\u001b[0;32m~/.conda/envs/default/lib/python3.9/site-packages/tensorflow/python/eager/execute.py\u001b[0m in \u001b[0;36mquick_execute\u001b[0;34m(op_name, num_outputs, inputs, attrs, ctx, name)\u001b[0m\n\u001b[1;32m     52\u001b[0m   \u001b[0;32mtry\u001b[0m\u001b[0;34m:\u001b[0m\u001b[0;34m\u001b[0m\u001b[0;34m\u001b[0m\u001b[0m\n\u001b[1;32m     53\u001b[0m     \u001b[0mctx\u001b[0m\u001b[0;34m.\u001b[0m\u001b[0mensure_initialized\u001b[0m\u001b[0;34m(\u001b[0m\u001b[0;34m)\u001b[0m\u001b[0;34m\u001b[0m\u001b[0;34m\u001b[0m\u001b[0m\n\u001b[0;32m---> 54\u001b[0;31m     tensors = pywrap_tfe.TFE_Py_Execute(ctx._handle, device_name, op_name,\n\u001b[0m\u001b[1;32m     55\u001b[0m                                         inputs, attrs, num_outputs)\n\u001b[1;32m     56\u001b[0m   \u001b[0;32mexcept\u001b[0m \u001b[0mcore\u001b[0m\u001b[0;34m.\u001b[0m\u001b[0m_NotOkStatusException\u001b[0m \u001b[0;32mas\u001b[0m \u001b[0me\u001b[0m\u001b[0;34m:\u001b[0m\u001b[0;34m\u001b[0m\u001b[0;34m\u001b[0m\u001b[0m\n",
      "\u001b[0;31mKeyboardInterrupt\u001b[0m: "
     ]
    }
   ],
   "source": [
    "total_steps = int((len(x_train) / batch_size ) * num_epochs )\n",
    "warmup_epoch_percentage = 0.10\n",
    "warmup_steps = int(total_steps * warmup_epoch_percentage)\n",
    "\n",
    "\n",
    "scheduled_lrs = WarmUpCosine(\n",
    "        learning_rate_base= learning_rate ,\n",
    "        total_steps=total_steps,\n",
    "        warmup_learning_rate=0.001 ,\n",
    "        warmup_steps=warmup_steps,\n",
    ")\n",
    "\n",
    "\n",
    "\n",
    "# define callbacks for learning rate schedular and weight saving\n",
    "checkpoint_filepath = \"eanet_classification.h5\"\n",
    "callbacks = [\n",
    "        tf.keras.callbacks.LearningRateScheduler( scheduled_lrs ) ,\n",
    "        tf.keras.callbacks.ModelCheckpoint(\n",
    "                                        filepath=checkpoint_filepath,\n",
    "                                        save_weights_only=True,\n",
    "                                        monitor='val_accuracy',\n",
    "                                        mode='max',\n",
    "                                        save_best_only=True)\n",
    "]\n",
    "\n",
    "\n",
    "\n",
    "model = get_model(attention_type=\"external_attention\")\n",
    "\n",
    "model.compile(\n",
    "    loss=keras.losses.CategoricalCrossentropy(label_smoothing=label_smoothing),\n",
    "    optimizer=tfa.optimizers.AdamW(\n",
    "        learning_rate=learning_rate, weight_decay=weight_decay\n",
    "    ),\n",
    "    metrics=[\n",
    "        keras.metrics.CategoricalAccuracy(name=\"accuracy\"),\n",
    "        keras.metrics.TopKCategoricalAccuracy(5, name=\"top-5-accuracy\"),\n",
    "    ]\n",
    ")\n",
    "\n",
    "\n",
    "history = model.fit(\n",
    "    x_train,\n",
    "    y_train,\n",
    "    batch_size=batch_size,\n",
    "    epochs=num_epochs,\n",
    "    validation_split=validation_split,\n",
    "    callbacks=  callbacks\n",
    ")\n",
    "\n",
    "_, accuracy, top_5_accuracy = model.evaluate(x_test, y_test, batch_size= batch_size )\n",
    "print(f\"Test accuracy: {round(accuracy * 100, 2)}%\")\n",
    "print(f\"Test top 5 accuracy: {round(top_5_accuracy * 100, 2)}%\")"
   ]
  },
  {
   "cell_type": "markdown",
   "metadata": {},
   "source": [
    "# print prediction stats"
   ]
  },
  {
   "cell_type": "code",
   "execution_count": 24,
   "metadata": {},
   "outputs": [],
   "source": [
    "import matplotlib.pyplot as plt\n",
    "from matplotlib.pyplot import imshow\n",
    "import os\n",
    "import seaborn as sns\n",
    "#sns.set_style('darkgrid')\n",
    "from PIL import Image\n",
    "from sklearn.metrics import confusion_matrix , classification_report\n",
    "\n",
    "def print_info( preds , targets  ):\n",
    "    class_dict= target_dict \n",
    "    labels= targets\n",
    "\n",
    "    true_class=[]\n",
    "    pred_class=[]\n",
    "    prob_list=[]\n",
    "    new_dict={}\n",
    "\n",
    "    y_pred=[]\n",
    "    for key,value in class_dict.items():\n",
    "        new_dict[value]=key             # dictionary {integer of class number: string of class name}\n",
    "    # store new_dict as a text fine in the save_dir\n",
    "    classes=list(new_dict.values())     # list of string of class names\n",
    "    \n",
    "    df_list = []\n",
    "    \n",
    "    for i, p in enumerate(preds):\n",
    "        pred_index=np.argmax(p)        \n",
    "        true_index= labels[i][0]  # labels are integer values\n",
    "        if pred_index != true_index: # a misclassification has occurred\n",
    "\n",
    "            true_class.append(new_dict[true_index])\n",
    "            pred_class.append(new_dict[pred_index])\n",
    "            prob_list.append(p[pred_index])\n",
    "            \n",
    "        y_pred.append(pred_index)    \n",
    "        \n",
    "        i_sample ={\n",
    "            \"prediction\": new_dict[ pred_index ] ,\n",
    "            \"gt\" : new_dict[ true_index ]\n",
    "        }\n",
    "        \n",
    "        df_list.append( i_sample )\n",
    "\n",
    "    if len(classes)<= 80:\n",
    "        # create a confusion matrix and a test report        \n",
    "        y_true= np.array(labels)        \n",
    "        y_pred=np.array(y_pred)        \n",
    "        cm = confusion_matrix(y_true, y_pred )\n",
    "        clr = classification_report(y_true, y_pred, target_names=classes , zero_division=0)\n",
    "        length=len(classes)\n",
    "        if length<8:\n",
    "            fig_width=8\n",
    "            fig_height=8\n",
    "        else:\n",
    "            fig_width= int(length * .5)\n",
    "            fig_height= int(length * .5)\n",
    "        plt.figure(figsize=(fig_width, fig_height))\n",
    "        sns.heatmap(cm, annot=True, vmin=0, fmt='g', cmap='Blues', cbar=False)       \n",
    "        plt.xticks(np.arange(length)+.5, classes, rotation= 90)\n",
    "        plt.yticks(np.arange(length)+.5, classes, rotation=0)\n",
    "        plt.xlabel(\"Predicted\")\n",
    "        plt.ylabel(\"Actual\")\n",
    "        plt.title(\"Confusion Matrix\")\n",
    "        plt.show()    \n",
    "        print(\"Classification Report:\\n----------------------\\n\", clr)\n",
    "        \n",
    "    # generate the prediction dataframe\n",
    "    df_ = pd.DataFrame( df_list )\n",
    "    df_.to_csv(\"predictions.csv\")"
   ]
  },
  {
   "cell_type": "markdown",
   "metadata": {},
   "source": [
    "> geenerate predictions and stats"
   ]
  },
  {
   "cell_type": "code",
   "execution_count": 25,
   "metadata": {
    "tags": []
   },
   "outputs": [
    {
     "name": "stderr",
     "output_type": "stream",
     "text": [
      "2023-01-09 19:42:24.364275: W tensorflow/core/framework/cpu_allocator_impl.cc:82] Allocation of 793742976 exceeds 10% of free system memory.\n"
     ]
    },
    {
     "data": {
      "image/png": "[encoded data removed]",
      "text/plain": [
       "<Figure size 2088x2088 with 1 Axes>"
      ]
     },
     "metadata": {
      "needs_background": "light"
     },
     "output_type": "display_data"
    },
    {
     "name": "stdout",
     "output_type": "stream",
     "text": [
      "Classification Report:\n",
      "----------------------\n",
      "               precision    recall  f1-score   support\n",
      "\n",
      "           A       0.70      0.62      0.66        97\n",
      "          BA       0.45      0.81      0.57        98\n",
      "          CA       0.65      0.36      0.46        36\n",
      "       Caruk       0.00      0.00      0.00        16\n",
      "          DA       0.67      0.69      0.68        98\n",
      "         DYA       0.00      0.00      0.00         3\n",
      "           E       0.00      0.00      0.00         8\n",
      "          GA       0.44      0.60      0.51        88\n",
      "          HA       0.71      0.51      0.59        73\n",
      "         HYA       0.00      0.00      0.00         6\n",
      "           I       0.49      0.40      0.44        52\n",
      "          JA       0.63      0.41      0.50        58\n",
      "           K       0.28      0.35      0.31        31\n",
      "          KA       0.57      0.43      0.49        98\n",
      "        KOMA       0.69      0.68      0.69        98\n",
      "         KSA       0.00      0.00      0.00         7\n",
      "          LA       0.63      0.27      0.37        98\n",
      "          LE       0.17      0.15      0.16        13\n",
      "          MA       0.61      0.80      0.69        98\n",
      "           N       0.35      0.66      0.46        32\n",
      "         NDA       0.24      0.46      0.32        13\n",
      "         NGA       0.30      0.55      0.39        60\n",
      "         NYA       0.83      0.30      0.44        33\n",
      "        NYCA       0.33      0.43      0.38         7\n",
      "        NYJA       0.17      0.33      0.22         3\n",
      "           O       0.00      0.00      0.00         4\n",
      "          PA       0.59      0.63      0.61        98\n",
      "      PAMAEH       0.55      0.62      0.58        97\n",
      "     PAMEPET       0.00      0.00      0.00        18\n",
      "   PAMINGKAL       0.00      0.00      0.00         3\n",
      "    PANELENG       0.31      0.52      0.39        97\n",
      "  PANEULEUNG       0.45      0.61      0.52        97\n",
      "    PANGHULU       0.00      0.00      0.00        97\n",
      "   PANGLAYAR       0.70      0.88      0.78        58\n",
      "   PANGWISAD       0.50      0.85      0.63        95\n",
      "    PANOLONG       0.89      0.73      0.80        70\n",
      "    PANYAKRA       0.00      0.00      0.00         3\n",
      "    PANYECEK       0.53      0.85      0.65        97\n",
      "     PANYUKU       0.82      0.34      0.48        97\n",
      "         PRA       0.50      0.44      0.47        18\n",
      "          RA       0.71      0.66      0.68        98\n",
      "          RE       0.25      0.08      0.12        13\n",
      "          RO       0.00      0.00      0.00         4\n",
      "         RWA       0.25      0.25      0.25         4\n",
      "         RYA       0.00      0.00      0.00         3\n",
      "          SA       0.61      0.48      0.54        98\n",
      "         SYA       0.00      0.00      0.00         4\n",
      "          TA       0.62      0.34      0.44        98\n",
      "         TWA       0.00      0.00      0.00         5\n",
      "         TYA       0.00      0.00      0.00         3\n",
      "           U       0.70      0.50      0.58        46\n",
      "          WA       0.48      0.20      0.29        64\n",
      "          YA       0.43      0.66      0.52        44\n",
      "          eu       0.33      0.40      0.36        15\n",
      "         kka       0.00      0.00      0.00         4\n",
      "         mba       0.44      0.68      0.54        22\n",
      "         mpa       0.47      0.69      0.56        13\n",
      "         nma       0.00      0.00      0.00         4\n",
      " pasangan-wa       0.00      0.00      0.00         3\n",
      "\n",
      "    accuracy                           0.53      2718\n",
      "   macro avg       0.36      0.36      0.34      2718\n",
      "weighted avg       0.53      0.53      0.51      2718\n",
      "\n"
     ]
    }
   ],
   "source": [
    "preds= model.predict( x_test ) \n",
    "print_info( preds , np.argmax(y_test, axis=-1).reshape(-1,1) ) "
   ]
  },
  {
   "cell_type": "code",
   "execution_count": null,
   "metadata": {},
   "outputs": [],
   "source": []
  }
 ],
 "metadata": {
  "colab": {
   "collapsed_sections": [],
   "name": "vit_small_ds",
   "provenance": [],
   "toc_visible": true
  },
  "kernelspec": {
   "display_name": "default:Python",
   "language": "python",
   "name": "conda-env-default-py"
  },
  "language_info": {
   "codemirror_mode": {
    "name": "ipython",
    "version": 3
   },
   "file_extension": ".py",
   "mimetype": "text/x-python",
   "name": "python",
   "nbconvert_exporter": "python",
   "pygments_lexer": "ipython3",
   "version": "3.9.13"
  }
 },
 "nbformat": 4,
 "nbformat_minor": 4
}
